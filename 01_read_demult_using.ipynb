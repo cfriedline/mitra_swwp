{
 "cells": [
  {
   "cell_type": "code",
   "execution_count": 0,
   "metadata": {
    "ExecuteTime": {},
    "collapsed": false
   },
   "outputs": [],
   "source": [
    "import os,sys\n",
    "from ipyparallel import Client\n",
    "from collections import defaultdict\n",
    "import tempfile\n",
    "from Bio.SeqIO.QualityIO import FastqGeneralIterator\n",
    "import socket\n",
    "from multiprocessing import Pool, Manager\n",
    "import shutil\n",
    "import tempfile\n",
    "from collections import OrderedDict\n",
    "import pandas as pd\n",
    "import numpy as np\n",
    "import pickle\n",
    "from Bio im"
   ]
  },
  {
   "cell_type": "code",
   "execution_count": 0,
   "metadata": {
    "ExecuteTime": {},
    "collapsed": true
   },
   "outputs": [],
   "source": [
    "import shutil"
   ]
  },
  {
   "cell_type": "code",
   "execution_count": 0,
   "metadata": {
    "ExecuteTime": {},
    "collapsed": true
   },
   "outputs": [],
   "source": [
    "from os import listdir as ls\n",
    "from os import path as op"
   ]
  },
  {
   "cell_type": "code",
   "execution_count": 0,
   "metadata": {
    "ExecuteTime": {},
    "collapsed": false
   },
   "outputs": [],
   "source": [
    "proc_files = !find /gpfs_fs/home/eckertlab/Mitra/SWWP_seq -name \"*.fastq.gz\" | grep -v trialRun | grep -v lane7\n",
    "\n",
    "proc_files = sorted(proc_files[2:])\n",
    "\n",
    "proc_files"
   ]
  },
  {
   "cell_type": "code",
   "execution_count": 0,
   "metadata": {
    "collapsed": false
   },
   "outputs": [],
   "source": [
    "#set up multiprocessing engines\n",
    "#ipcluster start -n10 --profile=xmn\n",
    "rc = Client(profile=\"sge\")\n",
    "dview = rc[:]\n",
    "lview = rc.load_balanced_view()\n",
    "len(lview)"
   ]
  },
  {
   "cell_type": "code",
   "execution_count": 0,
   "metadata": {
    "ExecuteTime": {},
    "collapsed": false
   },
   "outputs": [],
   "source": [
    "def format_fastq_tuple(title, seq, qual):\n",
    "    assert len(seq) == len(qual)\n",
    "    return \"@%s\\n%s\\n+\\n%s\\n\" % (title, seq, qual)\n",
    "\n",
    "def get_writers(barcodes, f):\n",
    "    import tempfile\n",
    "    from collections import defaultdict\n",
    "    w = defaultdict()\n",
    "    file_list = []\n",
    "    for b, name in list(barcodes.items()):\n",
    "        file_name = \"%s_%s_%s.fastq\" % (f, name, b)\n",
    "        file_list.append(file_name)\n",
    "        w[b] = open(file_name, \"w\")\n",
    "    return w, file_list\n",
    "\n",
    "def get_barcodes(f):\n",
    "    from collections import defaultdict\n",
    "    import os\n",
    "    bcs = defaultdict()\n",
    "    bc_lens = set()\n",
    "    b = os.path.join(os.path.dirname(f), \"barcodes.txt\")\n",
    "    h = open(b)\n",
    "    h.readline()\n",
    "    for line in h:\n",
    "        line = line.strip()\n",
    "        data = line.split(\"\\t\")\n",
    "        if len(data) > 1: #skip blank lines\n",
    "            if \",\" in data[0]:\n",
    "                data[0] = data[0].replace(\" \", \"\").replace(\",\", \"-\")\n",
    "            bc = data[3].upper().replace(\"CTCTTTCCCTACACGACGCTCTTCCGATCT\", \"\")[:-1]\n",
    "            bc_lens.add(len(bc))\n",
    "            bcs[bc] = data[1] + \"_\" + data[0]        \n",
    "    return bcs, bc_lens    \n",
    "\n",
    "def check_barcodes(barcodes):\n",
    "    for i in list(barcodes.keys()):\n",
    "        for j in list(barcodes.keys()):\n",
    "            if i != j:\n",
    "                assert not j.startswith(i)\n",
    "                \n",
    "def copy_file(src, dst):\n",
    "    import shutil\n",
    "    shutil.copy(src, dst)\n",
    "                \n",
    "def demult(f):\n",
    "    print(f)\n",
    "    import socket, os\n",
    "    from Bio.SeqIO.QualityIO import FastqGeneralIterator\n",
    "    from multiprocessing import Pool\n",
    "    from collections import defaultdict\n",
    "    import gzip\n",
    "    hostname = socket.gethostname()\n",
    "    out_dir = os.path.dirname(f)\n",
    "    barcodes, barcode_lens = get_barcodes(f)\n",
    "    check_barcodes(barcodes)\n",
    "    writers, writer_list = get_writers(barcodes, f)\n",
    "    count = 0\n",
    "    found = defaultdict(int)\n",
    "    bad_barcode = 0\n",
    "    n_start = 0\n",
    "    for title, seq, qual in FastqGeneralIterator(gzip.open(f, \"rt\")):\n",
    "\n",
    "        if seq.startswith(\"N\"):\n",
    "            seq = seq[1:]\n",
    "            qual = qual[1:]\n",
    "            n_start += 1\n",
    "        \n",
    "        has_barcode = False    \n",
    "        \n",
    "        for l in barcode_lens: \n",
    "            bc = seq[0:l]\n",
    "            if bc in barcodes:\n",
    "                found[bc] += 1\n",
    "                has_barcode = True\n",
    "                w = writers[bc]\n",
    "                w.write(format_fastq_tuple(title, seq[l:], qual[l:]))\n",
    "                break\n",
    "            \n",
    "        count += 1\n",
    "            \n",
    "        if count % 100000 == 0:\n",
    "            print(hostname, f, count)\n",
    "        \n",
    "        if not has_barcode:\n",
    "            bad_barcode += 1\n",
    "    \n",
    "    for k, v in writers.items():\n",
    "        v.close()\n",
    "            \n",
    "    return f, count, bad_barcode, found, writer_list\n",
    "\n",
    "# dview['format_fastq_tuple'] = format_fastq_tuple\n",
    "# dview['demult'] = demult\n",
    "# dview['check_barcodes'] = check_barcodes\n",
    "# dview['get_writers'] = get_writers\n",
    "# dview['get_barcodes'] = get_barcodes\n",
    "# dview['copy_file'] = copy_file\n"
   ]
  },
  {
   "cell_type": "code",
   "execution_count": 0,
   "metadata": {
    "collapsed": false
   },
   "outputs": [],
   "source": [
    "demult_jobs = []\n",
    "for f in proc_files:\n",
    "    demult_jobs.append(lview.apply_async(demult, f))"
   ]
  },
  {
   "cell_type": "code",
   "execution_count": 0,
   "metadata": {
    "collapsed": false
   },
   "outputs": [],
   "source": [
    "np.sum([j.ready() for j in demult_jobs])"
   ]
  },
  {
   "cell_type": "code",
   "execution_count": 0,
   "metadata": {
    "collapsed": false
   },
   "outputs": [],
   "source": [
    "[x.r for x in demult_jobs]"
   ]
  },
  {
   "cell_type": "code",
   "execution_count": 0,
   "metadata": {
    "collapsed": false
   },
   "outputs": [],
   "source": [
    "len(demult_jobs)"
   ]
  },
  {
   "cell_type": "code",
   "execution_count": 0,
   "metadata": {
    "collapsed": false
   },
   "outputs": [],
   "source": [
    "proc_files[0]"
   ]
  },
  {
   "cell_type": "code",
   "execution_count": 0,
   "metadata": {
    "collapsed": false
   },
   "outputs": [],
   "source": [
    "demult_results = [j.r for j in demult_jobs if j.ready()]"
   ]
  },
  {
   "cell_type": "code",
   "execution_count": 0,
   "metadata": {
    "collapsed": false
   },
   "outputs": [],
   "source": [
    "pickle.dump(demult_results, open(\"/gpfs_fs/home/eckertlab/Mitra/SWWP_seq/demult_results.pkl\", \"wb\"))"
   ]
  },
  {
   "cell_type": "code",
   "execution_count": 0,
   "metadata": {
    "ExecuteTime": {},
    "collapsed": false
   },
   "outputs": [],
   "source": [
    "demult_results = pickle.load(open(\"/gpfs_fs/home/eckertlab/Mitra/SWWP_seq/demult_results.pkl\", \"rb\"))"
   ]
  },
  {
   "cell_type": "code",
   "execution_count": 0,
   "metadata": {
    "ExecuteTime": {},
    "collapsed": false
   },
   "outputs": [],
   "source": [
    "demult_results"
   ]
  },
  {
   "cell_type": "code",
   "execution_count": 0,
   "metadata": {
    "ExecuteTime": {},
    "collapsed": false
   },
   "outputs": [],
   "source": [
    "fastq_files = !find /gpfs_fs/home/eckertlab/Mitra/SWWP_seq | grep '.fastq$' | grep -v trial"
   ]
  },
  {
   "cell_type": "code",
   "execution_count": 0,
   "metadata": {
    "ExecuteTime": {},
    "collapsed": true
   },
   "outputs": [],
   "source": [
    "unused = !find /gpfs_fs/home/eckertlab/Mitra/SWWP_seq | grep '.unused$' | grep -v trial"
   ]
  },
  {
   "cell_type": "code",
   "execution_count": 0,
   "metadata": {
    "ExecuteTime": {},
    "collapsed": false
   },
   "outputs": [],
   "source": [
    "collapsed = [x for x in fastq_files if not \"gz\" in x]"
   ]
  },
  {
   "cell_type": "code",
   "execution_count": 0,
   "metadata": {
    "ExecuteTime": {},
    "collapsed": false
   },
   "outputs": [],
   "source": [
    "collapsed"
   ]
  },
  {
   "cell_type": "code",
   "execution_count": 0,
   "metadata": {
    "ExecuteTime": {},
    "collapsed": false
   },
   "outputs": [],
   "source": [
    "unused"
   ]
  },
  {
   "cell_type": "code",
   "execution_count": 0,
   "metadata": {
    "ExecuteTime": {},
    "collapsed": false
   },
   "outputs": [],
   "source": [
    "for u in unused:\n",
    "    fastq_files.append(u)"
   ]
  },
  {
   "cell_type": "code",
   "execution_count": 0,
   "metadata": {
    "ExecuteTime": {},
    "collapsed": false
   },
   "outputs": [],
   "source": [
    "fastq_files[-10:]"
   ]
  },
  {
   "cell_type": "code",
   "execution_count": 0,
   "metadata": {
    "ExecuteTime": {},
    "collapsed": false
   },
   "outputs": [],
   "source": [
    "samp_dict = {}\n",
    "for f in fastq_files:\n",
    "    d = f.split(\"_\")\n",
    "    sample = d[-2]\n",
    "    if not sample in samp_dict:\n",
    "        samp_dict[sample] = []\n",
    "    samp_dict[sample].append(f)"
   ]
  },
  {
   "cell_type": "code",
   "execution_count": 0,
   "metadata": {
    "ExecuteTime": {},
    "collapsed": false
   },
   "outputs": [],
   "source": [
    "for k, v in samp_dict.items():\n",
    "    if len(v) > 1:\n",
    "        print(k, v)"
   ]
  },
  {
   "cell_type": "code",
   "execution_count": 0,
   "metadata": {
    "ExecuteTime": {},
    "collapsed": false
   },
   "outputs": [],
   "source": [
    "for k, v in samp_dict.items():\n",
    "    if len(v) > 1:\n",
    "        d = os.path.dirname(v[0])\n",
    "        f = \"_\".join(v[0].split(\"_\")[-2:])\n",
    "        out = os.path.join(d, f).replace(\".unused\", \"\")\n",
    "        print(out)\n",
    "        with open(out, \"w\") as o:\n",
    "            for elem in v:\n",
    "                for name, seq, qual in FastqGeneralIterator(open(elem)):\n",
    "                    o.write(format_fastq_tuple(name, seq, qual))"
   ]
  },
  {
   "cell_type": "code",
   "execution_count": 0,
   "metadata": {
    "ExecuteTime": {},
    "collapsed": false
   },
   "outputs": [],
   "source": [
    "fastq_files = !find /gpfs_fs/home/eckertlab/Mitra/SWWP_seq | grep '.fastq$' | grep -v trial"
   ]
  },
  {
   "cell_type": "code",
   "execution_count": 0,
   "metadata": {
    "ExecuteTime": {},
    "collapsed": false
   },
   "outputs": [],
   "source": [
    "len(fastq_files)"
   ]
  },
  {
   "cell_type": "code",
   "execution_count": 0,
   "metadata": {
    "ExecuteTime": {},
    "collapsed": false
   },
   "outputs": [],
   "source": [
    "with open(os.path.join(\"/gpfs_fs/home/eckertlab/Mitra/SWWP_seq\", \"fastq_files.txt\"), \"w\") as o:\n",
    "    for f in fastq_files:\n",
    "        o.write(\"%s\\n\" % f)"
   ]
  }
 ],
 "metadata": {
  "kernelspec": {
   "display_name": "Python 3",
   "language": "python",
   "name": "python3"
  },
  "language_info": {
   "codemirror_mode": {
    "name": "ipython",
    "version": 3
   },
   "file_extension": ".py",
   "mimetype": "text/x-python",
   "name": "python",
   "nbconvert_exporter": "python",
   "pygments_lexer": "ipython3",
   "version": "3.4.4"
  }
 },
 "nbformat": 4,
 "nbformat_minor": 0
}
