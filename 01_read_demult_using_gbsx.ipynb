{
 "cells": [
  {
   "cell_type": "code",
   "execution_count": 0,
   "metadata": {
    "ExecuteTime": {},
    "collapsed": true
   },
   "outputs": [],
   "source": [
    "import os,sys\n",
    "from ipyparallel import Client\n",
    "from collections import defaultdict\n",
    "import tempfile\n",
    "from Bio.SeqIO.QualityIO import FastqGeneralIterator\n",
    "import socket\n",
    "from multiprocessing import Pool, Manager\n",
    "import shutil\n",
    "import tempfile\n",
    "from collections import OrderedDict\n",
    "import pandas as pd\n",
    "import numpy as np\n",
    "import pickle\n",
    "import shutil\n",
    "from os import listdir as ls\n",
    "from os import path as op"
   ]
  },
  {
   "cell_type": "code",
   "execution_count": 0,
   "metadata": {
    "ExecuteTime": {},
    "collapsed": true
   },
   "outputs": [],
   "source": [
    "rootdir = \"/gpfs_fs/home/eckertlab/Mitra/SWWP_seq\""
   ]
  },
  {
   "cell_type": "code",
   "execution_count": 0,
   "metadata": {
    "ExecuteTime": {},
    "collapsed": false
   },
   "outputs": [],
   "source": [
    "cd $rootdir"
   ]
  },
  {
   "cell_type": "code",
   "execution_count": 0,
   "metadata": {
    "ExecuteTime": {},
    "collapsed": false
   },
   "outputs": [],
   "source": [
    "proc_files = !find /gpfs_fs/home/eckertlab/Mitra/SWWP_seq -name \"*.fastq.gz\" | grep -v trialRun | grep -v lane7\n",
    "proc_files = sorted(proc_files)\n",
    "proc_files"
   ]
  },
  {
   "cell_type": "code",
   "execution_count": 0,
   "metadata": {
    "ExecuteTime": {},
    "collapsed": false
   },
   "outputs": [],
   "source": [
    "barcode_files = !find . -name \"barcodes.txt\" | grep -v trialRun"
   ]
  },
  {
   "cell_type": "code",
   "execution_count": 0,
   "metadata": {
    "ExecuteTime": {},
    "collapsed": false
   },
   "outputs": [],
   "source": [
    "bc_dfs = {}\n",
    "for b in barcode_files:\n",
    "    bc_dfs[b] = pd.read_csv(b, sep=\"\\t\")"
   ]
  },
  {
   "cell_type": "code",
   "execution_count": 0,
   "metadata": {
    "ExecuteTime": {},
    "collapsed": false
   },
   "outputs": [],
   "source": [
    "!mkdir /gpfs_fs/home/eckertlab/Mitra/SWWP_seq2"
   ]
  },
  {
   "cell_type": "code",
   "execution_count": 0,
   "metadata": {
    "ExecuteTime": {},
    "collapsed": false
   },
   "outputs": [],
   "source": [
    "for i in range(1,5):\n",
    "    !mkdir /gpfs_fs/home/eckertlab/Mitra/SWWP_seq2/lane{i}"
   ]
  },
  {
   "cell_type": "code",
   "execution_count": 0,
   "metadata": {
    "ExecuteTime": {},
    "collapsed": false
   },
   "outputs": [],
   "source": [
    "for p in proc_files:\n",
    "    src = p\n",
    "    dst = p.replace(\"SWWP_seq\", \"SWWP_seq2\")\n",
    "    shutil.copy(src, dst)"
   ]
  },
  {
   "cell_type": "code",
   "execution_count": 0,
   "metadata": {
    "ExecuteTime": {},
    "collapsed": false
   },
   "outputs": [],
   "source": [
    "cd /gpfs_fs/home/eckertlab/Mitra/SWWP_seq2"
   ]
  },
  {
   "cell_type": "code",
   "execution_count": 0,
   "metadata": {
    "ExecuteTime": {},
    "collapsed": false
   },
   "outputs": [],
   "source": [
    "for key, df in bc_dfs.items():\n",
    "    d = \"/gpfs_fs/home/eckertlab/Mitra/SWWP_seq2\"\n",
    "    df['bc'] = df.barcode2.apply(lambda x: x.replace(\"CTCTTTCCCTACACGACGCTCTTCCGATCT\", \"\").upper())\n",
    "    o = os.path.join(d, key)\n",
    "    df['enz'] = \"EcoRI\"\n",
    "    df[['sample.ID', 'bc', 'enz']].to_csv(o, sep=\"\\t\", header=False, index=False)"
   ]
  },
  {
   "cell_type": "code",
   "execution_count": 0,
   "metadata": {
    "ExecuteTime": {},
    "collapsed": false
   },
   "outputs": [],
   "source": [
    "proc_files = !find /gpfs_fs/home/eckertlab/Mitra/SWWP_seq2 -name \"*.fastq.gz\"\n",
    "proc_files = sorted(proc_files)\n",
    "proc_files"
   ]
  },
  {
   "cell_type": "code",
   "execution_count": 0,
   "metadata": {
    "ExecuteTime": {},
    "collapsed": false
   },
   "outputs": [],
   "source": [
    "def build_gbsx_cmd(fastq, bc, enz):\n",
    "    cmd = \"/home/cfriedline/g/src/jdk1.8.0_92/bin/java -jar /home/cfriedline/g/src/GBSX/GBSX_v1.2.jar --Demultiplexer\"\n",
    "    return \"{} -f1 {} -i {} -gzip true -rad true -mb 2 -me 1 -ea {}\".format(cmd, fastq, bc, enz), \"gbsx\"\n",
    "\n",
    "def write_qsub(workdir, cmd, label, run, cmd_label):\n",
    "    with open(os.path.join(workdir, \"run_{}.sh\".format(cmd_label)), \"w\") as o:\n",
    "        o.write(\"\"\"#!/bin/bash\n",
    "#$ -N {4}{0}\n",
    "#$ -cwd\n",
    "#$ -V\n",
    "#$ -S /bin/bash\n",
    "#$ -e {4}_{3}_{0}.err\n",
    "#$ -o {4}_{3}_{0}.out\n",
    "cd {1}\n",
    "{2}\n",
    "\"\"\".format(label, workdir, cmd, run, cmd_label))\n",
    "\n",
    "rootdir = \"/gpfs_fs/home/eckertlab/Mitra/SWWP_seq2\"\n",
    "        \n",
    "        \n",
    "for p in proc_files:\n",
    "    run = os.path.basename(os.path.dirname(p))\n",
    "    label = \"mitra\"\n",
    "    bc_file = os.path.join(os.path.dirname(p), \"barcodes.txt\")\n",
    "    enz_file = os.path.join(rootdir, \"ecori.txt\")\n",
    "    workdir = os.path.dirname(p)\n",
    "    gbsx_cmd, gbsx_label = build_gbsx_cmd(p, bc_file, enz_file)\n",
    "    write_qsub(workdir, gbsx_cmd, label, run, gbsx_label)"
   ]
  },
  {
   "cell_type": "code",
   "execution_count": 0,
   "metadata": {
    "ExecuteTime": {},
    "collapsed": false
   },
   "outputs": [],
   "source": [
    "fastq_files = !find /gpfs_fs/home/eckertlab/Mitra/SWWP_seq2 | grep '.fastq.gz$' | grep -v undet | grep -v 001\n",
    "fastq_files = sorted(fastq_files, key=lambda x: os.path.basename(x))\n",
    "len(fastq_files)"
   ]
  },
  {
   "cell_type": "code",
   "execution_count": 0,
   "metadata": {
    "ExecuteTime": {},
    "collapsed": false
   },
   "outputs": [],
   "source": [
    "fastq_files"
   ]
  },
  {
   "cell_type": "code",
   "execution_count": 0,
   "metadata": {
    "ExecuteTime": {},
    "collapsed": false
   },
   "outputs": [],
   "source": [
    "samp_dict = {}\n",
    "for f in fastq_files:\n",
    "    d = os.path.basename(f).split(\".\")\n",
    "    sample = d[0].strip().replace(\"_dup\", \"\").upper()\n",
    "    if not sample in samp_dict:\n",
    "        samp_dict[sample] = []\n",
    "    samp_dict[sample].append(f)"
   ]
  },
  {
   "cell_type": "code",
   "execution_count": 0,
   "metadata": {
    "ExecuteTime": {},
    "collapsed": false
   },
   "outputs": [],
   "source": [
    "#AJO880 (lane2,4), BAL807 (lane1: 807, 807_dup), STI1 (1,3)\n",
    "for k, v in samp_dict.items():\n",
    "    if len(v) > 1:\n",
    "        print(k, v)"
   ]
  },
  {
   "cell_type": "code",
   "execution_count": 0,
   "metadata": {
    "ExecuteTime": {},
    "collapsed": false
   },
   "outputs": [],
   "source": [
    "!mkdir dedupe"
   ]
  },
  {
   "cell_type": "code",
   "execution_count": 0,
   "metadata": {
    "ExecuteTime": {},
    "collapsed": false
   },
   "outputs": [],
   "source": [
    "cd dedupe"
   ]
  },
  {
   "cell_type": "code",
   "execution_count": 0,
   "metadata": {
    "ExecuteTime": {},
    "collapsed": true
   },
   "outputs": [],
   "source": [
    "i = 0\n",
    "for k, v in samp_dict.items():\n",
    "    out = \"{}.fastq\".format(k)\n",
    "    cmd = None\n",
    "    if len(v) > 1:\n",
    "        if os.path.exists(out):\n",
    "            os.remove(out)\n",
    "        cmd = \"zcat {} > {}\".format(\" \".join(v), out)\n",
    "    else:\n",
    "        cmd = \"zcat {} > {}\".format(v[0], out)\n",
    "    print(i, k)\n",
    "    !$cmd \n",
    "    i += 1"
   ]
  },
  {
   "cell_type": "code",
   "execution_count": 0,
   "metadata": {
    "ExecuteTime": {},
    "collapsed": false
   },
   "outputs": [],
   "source": [
    "fastq_files = !find /gpfs_fs/home/eckertlab/Mitra/SWWP_seq2/dedupe | grep '.fastq$'"
   ]
  },
  {
   "cell_type": "code",
   "execution_count": 0,
   "metadata": {
    "ExecuteTime": {},
    "collapsed": false
   },
   "outputs": [],
   "source": [
    "len(fastq_files)"
   ]
  },
  {
   "cell_type": "code",
   "execution_count": 0,
   "metadata": {
    "ExecuteTime": {},
    "collapsed": false
   },
   "outputs": [],
   "source": [
    "with open(os.path.join(\"/gpfs_fs/home/eckertlab/Mitra/SWWP_seq2\", \"fastq_files.txt\"), \"w\") as o:\n",
    "    for f in fastq_files:\n",
    "        o.write(\"%s\\n\" % f)"
   ]
  },
  {
   "cell_type": "code",
   "execution_count": 0,
   "metadata": {
    "collapsed": true
   },
   "outputs": [],
   "source": []
  }
 ],
 "metadata": {
  "kernelspec": {
   "display_name": "Python 3",
   "language": "python",
   "name": "python3"
  },
  "language_info": {
   "codemirror_mode": {
    "name": "ipython",
    "version": 3
   },
   "file_extension": ".py",
   "mimetype": "text/x-python",
   "name": "python",
   "nbconvert_exporter": "python",
   "pygments_lexer": "ipython3",
   "version": "3.5.2"
  }
 },
 "nbformat": 4,
 "nbformat_minor": 0
}
