{
 "cells": [
  {
   "cell_type": "code",
   "execution_count": 0,
   "metadata": {
    "ExecuteTime": {},
    "collapsed": false
   },
   "outputs": [],
   "source": [
    "import sys\n",
    "\n",
    "sys.path.append(\"../include_utils/\")\n",
    "\n",
    "#from IPython.parallel import Client\n",
    "import ipyparallel as ipp\n",
    "import os, time\n",
    "import include_utils as u\n",
    "import pandas as pd\n",
    "import numpy as np\n",
    "import scipy as sp\n",
    "import numbers\n",
    "import matplotlib.pyplot as plt\n",
    "import matplotlib.patches as mpatches\n",
    "import matplotlib.cm as cm\n",
    "import matplotlib.colors as mcolors\n",
    "import vcf\n",
    "from sklearn import preprocessing\n",
    "from subprocess import Popen, PIPE, STDOUT, check_output\n",
    "import seaborn as sns\n",
    "from IPython.display import FileLink\n",
    "import urllib.request as urllib2\n",
    "import dill\n",
    "import traceback\n",
    "from pandas import Series, DataFrame\n",
    "import gzip\n",
    "import warnings\n",
    "warnings.filterwarnings('ignore',category=pd.io.pytables.PerformanceWarning)\n",
    "%config InlineBackend.figure_format = 'retina'\n",
    "from Bio import SeqIO\n",
    "import pysam\n",
    "from collections import OrderedDict, namedtuple\n",
    "import operator\n",
    "import multiprocessing as mp\n",
    "from ipyparallel import Client\n",
    "import shutil"
   ]
  },
  {
   "cell_type": "code",
   "execution_count": 0,
   "metadata": {
    "ExecuteTime": {},
    "collapsed": false
   },
   "outputs": [],
   "source": [
    "cd \"~/eckertlab/Mitra/mapping/split_parallel/collapsed/\""
   ]
  },
  {
   "cell_type": "code",
   "execution_count": 0,
   "metadata": {
    "ExecuteTime": {},
    "collapsed": true
   },
   "outputs": [],
   "source": [
    "bam_dir = \".\"\n",
    "analysis_dir = os.path.join(bam_dir, \"samtools1.3\")\n",
    "if not os.path.exists(analysis_dir):\n",
    "    os.makedirs(analysis_dir)\n",
    "assert os.path.exists(analysis_dir)"
   ]
  },
  {
   "cell_type": "code",
   "execution_count": 0,
   "metadata": {
    "ExecuteTime": {},
    "collapsed": false
   },
   "outputs": [],
   "source": [
    "bam_files = open(\"bams.txt\").readlines()\n",
    "bam_files = sorted([x.strip() for x in bam_files])\n",
    "bam_files = [os.path.abspath(x) for x in bam_files]"
   ]
  },
  {
   "cell_type": "code",
   "execution_count": 0,
   "metadata": {
    "ExecuteTime": {},
    "collapsed": false
   },
   "outputs": [],
   "source": [
    "len(bam_files) == 381"
   ]
  },
  {
   "cell_type": "code",
   "execution_count": 0,
   "metadata": {
    "ExecuteTime": {},
    "collapsed": true
   },
   "outputs": [],
   "source": [
    "samtools = \"/home/cfriedline/bin/samtools\"\n",
    "bcftools = \"/home/cfriedline/bin/bcftools\"\n",
    "picard = \"/home/cfriedline/gpfs/src/broadinstitute-picard-03a1d72/dist/picard.jar\"\n",
    "java = \"/home/cfriedline/g/src/jdk1.8.0_92/bin/java\"\n",
    "perl = \"/home/cfriedline/gpfs/opt/ActivePerl-5.18/bin/perl\""
   ]
  },
  {
   "cell_type": "code",
   "execution_count": 0,
   "metadata": {
    "ExecuteTime": {},
    "collapsed": false
   },
   "outputs": [],
   "source": [
    "def remove_header(args):\n",
    "    samtools, bam = args\n",
    "    out = \"%s_nosq.sam\" % bam\n",
    "    cmd = \"%s view %s -o %s\" % (samtools, bam, out)\n",
    "    res = check_output(cmd.split(), stderr=STDOUT)\n",
    "    return out"
   ]
  },
  {
   "cell_type": "code",
   "execution_count": 0,
   "metadata": {
    "ExecuteTime": {},
    "collapsed": false
   },
   "outputs": [],
   "source": [
    "rc = Client(profile=\"sge\")\n",
    "dv = rc[:]\n",
    "lv = rc.load_balanced_view()"
   ]
  },
  {
   "cell_type": "code",
   "execution_count": 0,
   "metadata": {
    "ExecuteTime": {},
    "collapsed": false
   },
   "outputs": [],
   "source": [
    "len(dv)"
   ]
  },
  {
   "cell_type": "code",
   "execution_count": 0,
   "metadata": {
    "ExecuteTime": {},
    "collapsed": false
   },
   "outputs": [],
   "source": [
    "with dv.sync_imports():\n",
    "    from subprocess import check_output, call, Popen, STDOUT, PIPE\n",
    "    import os, socket\n",
    "    import tempfile\n",
    "    import shutil"
   ]
  },
  {
   "cell_type": "code",
   "execution_count": 0,
   "metadata": {
    "ExecuteTime": {},
    "collapsed": true
   },
   "outputs": [],
   "source": [
    "%px cd \"~/eckertlab/Mitra/mapping/split_parallel/collapsed/\""
   ]
  },
  {
   "cell_type": "code",
   "execution_count": 0,
   "metadata": {
    "ExecuteTime": {},
    "collapsed": true
   },
   "outputs": [],
   "source": [
    "dv['remove_header'] = remove_header"
   ]
  },
  {
   "cell_type": "code",
   "execution_count": 0,
   "metadata": {
    "ExecuteTime": {},
    "collapsed": false
   },
   "outputs": [],
   "source": [
    "jobs = []\n",
    "for b in bam_files:\n",
    "    j = lv.apply(remove_sq, (samtools, b))\n",
    "    jobs.append(j)"
   ]
  },
  {
   "cell_type": "code",
   "execution_count": 0,
   "metadata": {
    "ExecuteTime": {},
    "collapsed": false
   },
   "outputs": [],
   "source": [
    "len(jobs)"
   ]
  },
  {
   "cell_type": "code",
   "execution_count": 0,
   "metadata": {
    "ExecuteTime": {},
    "collapsed": false
   },
   "outputs": [],
   "source": [
    "np.sum([x.ready() for x in jobs])"
   ]
  },
  {
   "cell_type": "code",
   "execution_count": 0,
   "metadata": {
    "ExecuteTime": {},
    "collapsed": true
   },
   "outputs": [],
   "source": [
    "nosq_sam = !ls *nosq.sam"
   ]
  },
  {
   "cell_type": "code",
   "execution_count": 0,
   "metadata": {
    "ExecuteTime": {},
    "collapsed": true
   },
   "outputs": [],
   "source": [
    "assembly = \"/gpfs_fs/home/eckertlab/SugarPine_genome/pila.v1.0.scafSeq_mapped.fasta\""
   ]
  },
  {
   "cell_type": "code",
   "execution_count": 0,
   "metadata": {
    "ExecuteTime": {},
    "collapsed": true
   },
   "outputs": [],
   "source": [
    "def add_back_sq(args):\n",
    "    samtools, sam, assembly = args\n",
    "    out = \"%s_newsq.sam\" % sam\n",
    "    cmd = \"%s view -h -t %s.fai %s -o %s\" % (samtools, assembly, sam, out)\n",
    "    res = check_output(cmd.split(), stderr=STDOUT)\n",
    "    return cmd"
   ]
  },
  {
   "cell_type": "code",
   "execution_count": 0,
   "metadata": {
    "ExecuteTime": {},
    "collapsed": true
   },
   "outputs": [],
   "source": [
    "dv['add_back_sq'] = add_back_sq"
   ]
  },
  {
   "cell_type": "code",
   "execution_count": 0,
   "metadata": {
    "ExecuteTime": {},
    "collapsed": false
   },
   "outputs": [],
   "source": [
    "jobs = []\n",
    "for n in nosq_sam:\n",
    "    j = lv.apply_async(add_back_sq, (samtools, n, assembly))\n",
    "    jobs.append(j)"
   ]
  },
  {
   "cell_type": "code",
   "execution_count": 0,
   "metadata": {
    "ExecuteTime": {},
    "collapsed": false
   },
   "outputs": [],
   "source": [
    "np.sum([x.ready() for x in jobs])"
   ]
  },
  {
   "cell_type": "code",
   "execution_count": 0,
   "metadata": {
    "ExecuteTime": {},
    "collapsed": true
   },
   "outputs": [],
   "source": [
    "newsq_sam = !ls | grep 'newsq.sam$'"
   ]
  },
  {
   "cell_type": "code",
   "execution_count": 0,
   "metadata": {
    "ExecuteTime": {},
    "collapsed": false
   },
   "outputs": [],
   "source": [
    "def rewrite_rg(args):\n",
    "    samtools, sam = args\n",
    "    \n",
    "    #sam: ATH163_rg_sorted_mapped.bam_nosq.sam_newsq.sam\n",
    "    \n",
    "    # get RG from original bam file\n",
    "    bam = sam.replace(\"_nosq.sam_newsq.sam\", \"\")\n",
    "    cmd = \"%s view -H %s | grep '^@RG'\" % (samtools, bam)\n",
    "    p = Popen(cmd, stdout=PIPE, shell=True)\n",
    "    p.wait()\n",
    "    rg = list(p.stdout)[0].decode().strip()\n",
    "    \n",
    "    #dump header to temp file, append rg\n",
    "    t = tempfile.NamedTemporaryFile(delete=False).name\n",
    "    print(t)\n",
    "    cmd = \"%s view -H %s -o %s\" % (samtools, sam, t)\n",
    "    call(cmd.split())\n",
    "    with open(t, \"a\") as o:\n",
    "        o.write(\"%s\\n\" % rg)\n",
    "    \n",
    "    #convert sam to bam\n",
    "    newbam = \"%s.bam\" % sam\n",
    "    cmd = \"%s view -h -b %s -o %s\" % (samtools, sam, newbam)\n",
    "    call(cmd.split())\n",
    "    \n",
    "    #use reheader\n",
    "    reheader = \"%s_reheader.bam\" % newbam\n",
    "    cmd = \"%s reheader -P %s %s > %s\" % (samtools, t, newbam, reheader)\n",
    "    p = Popen(cmd, stdout=PIPE, shell=True)\n",
    "    p.wait()\n",
    "    \n",
    "    #sort bam\n",
    "    sorted_bam = \"%s_sorted.bam\" % reheader\n",
    "    cmd = \"%s sort %s -o %s\" % (samtools, reheader, sorted_bam)\n",
    "    call(cmd.split())\n",
    "    return sorted_bam\n"
   ]
  },
  {
   "cell_type": "code",
   "execution_count": 0,
   "metadata": {
    "ExecuteTime": {},
    "collapsed": true
   },
   "outputs": [],
   "source": [
    "dv['rewrite_rg'] = rewrite_rg"
   ]
  },
  {
   "cell_type": "code",
   "execution_count": 0,
   "metadata": {
    "ExecuteTime": {},
    "collapsed": false
   },
   "outputs": [],
   "source": [
    "jobs = []\n",
    "for n in newsq_sam:\n",
    "    j = lv.apply_async(rewrite_rg, (samtools, n))\n",
    "    jobs.append(j)"
   ]
  },
  {
   "cell_type": "code",
   "execution_count": 0,
   "metadata": {
    "ExecuteTime": {},
    "collapsed": false
   },
   "outputs": [],
   "source": [
    "np.sum([x.ready() for x in jobs])"
   ]
  },
  {
   "cell_type": "code",
   "execution_count": 0,
   "metadata": {
    "ExecuteTime": {},
    "collapsed": false
   },
   "outputs": [],
   "source": [
    "working = !ls | grep 'reheader.bam_sorted.bam$'"
   ]
  },
  {
   "cell_type": "code",
   "execution_count": 0,
   "metadata": {
    "ExecuteTime": {},
    "collapsed": true
   },
   "outputs": [],
   "source": [
    "!mkdir work"
   ]
  },
  {
   "cell_type": "code",
   "execution_count": 0,
   "metadata": {
    "ExecuteTime": {},
    "collapsed": true
   },
   "outputs": [],
   "source": [
    "def copy_file(args):\n",
    "    src, dst = args\n",
    "    shutil.copy(src, dst)"
   ]
  },
  {
   "cell_type": "code",
   "execution_count": 0,
   "metadata": {
    "ExecuteTime": {},
    "collapsed": true
   },
   "outputs": [],
   "source": [
    "dv['copy_file'] = copy_file"
   ]
  },
  {
   "cell_type": "code",
   "execution_count": 0,
   "metadata": {
    "ExecuteTime": {},
    "collapsed": false
   },
   "outputs": [],
   "source": [
    "jobs = []\n",
    "for w in working:\n",
    "    src = w\n",
    "    dst = os.path.join(\"work\", \"%s.bam\" % src.split(\"_\")[0].upper())\n",
    "    jobs.append(lv.apply_async(copy_file, (src, dst)))"
   ]
  },
  {
   "cell_type": "code",
   "execution_count": 0,
   "metadata": {
    "ExecuteTime": {},
    "collapsed": false
   },
   "outputs": [],
   "source": [
    "np.sum([x.ready() for x in jobs])"
   ]
  },
  {
   "cell_type": "code",
   "execution_count": 0,
   "metadata": {
    "ExecuteTime": {},
    "collapsed": false
   },
   "outputs": [],
   "source": [
    "cd work"
   ]
  },
  {
   "cell_type": "code",
   "execution_count": 0,
   "metadata": {
    "ExecuteTime": {},
    "collapsed": false
   },
   "outputs": [],
   "source": [
    "%px cd work"
   ]
  },
  {
   "cell_type": "code",
   "execution_count": 0,
   "metadata": {
    "ExecuteTime": {},
    "collapsed": false
   },
   "outputs": [],
   "source": [
    "working_bams = !ls *.bam"
   ]
  },
  {
   "cell_type": "code",
   "execution_count": 0,
   "metadata": {
    "ExecuteTime": {},
    "collapsed": false
   },
   "outputs": [],
   "source": [
    "len(working_bams)"
   ]
  },
  {
   "cell_type": "code",
   "execution_count": 0,
   "metadata": {
    "ExecuteTime": {},
    "collapsed": false
   },
   "outputs": [],
   "source": [
    "def index_bam(args):\n",
    "    samtools, bam = args\n",
    "    cmd = \"%s index %s\" % (samtools, bam)\n",
    "    call(cmd.split())"
   ]
  },
  {
   "cell_type": "code",
   "execution_count": 0,
   "metadata": {
    "ExecuteTime": {},
    "collapsed": true
   },
   "outputs": [],
   "source": [
    "jobs = []\n",
    "for b in working_bams:\n",
    "    jobs.append(lv.apply_async(index_bam, (samtools, b)))"
   ]
  },
  {
   "cell_type": "code",
   "execution_count": 0,
   "metadata": {
    "ExecuteTime": {},
    "collapsed": false
   },
   "outputs": [],
   "source": [
    "np.sum([x.ready() for x in jobs])"
   ]
  },
  {
   "cell_type": "code",
   "execution_count": 0,
   "metadata": {
    "ExecuteTime": {},
    "collapsed": false
   },
   "outputs": [],
   "source": [
    "pwd"
   ]
  },
  {
   "cell_type": "code",
   "execution_count": 0,
   "metadata": {
    "collapsed": true
   },
   "outputs": [],
   "source": []
  }
 ],
 "metadata": {
  "kernelspec": {
   "display_name": "Python 3",
   "language": "python",
   "name": "python3"
  },
  "language_info": {
   "codemirror_mode": {
    "name": "ipython",
    "version": 3
   },
   "file_extension": ".py",
   "mimetype": "text/x-python",
   "name": "python",
   "nbconvert_exporter": "python",
   "pygments_lexer": "ipython3",
   "version": "3.4.4"
  }
 },
 "nbformat": 4,
 "nbformat_minor": 0
}
