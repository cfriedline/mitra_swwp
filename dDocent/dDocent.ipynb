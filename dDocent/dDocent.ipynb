{
 "cells": [
  {
   "cell_type": "code",
   "execution_count": 0,
   "metadata": {
    "ExecuteTime": {},
    "collapsed": true
   },
   "outputs": [],
   "source": [
    "import os\n",
    "import sys\n",
    "import pandas as pd\n",
    "import numpy as np\n",
    "import scipy as sp\n",
    "import scandir\n",
    "import glob\n",
    "import shutil\n",
    "from ipyparallel import Client"
   ]
  },
  {
   "cell_type": "code",
   "execution_count": 0,
   "metadata": {
    "ExecuteTime": {},
    "collapsed": true
   },
   "outputs": [],
   "source": [
    "ddocent = \"/home/cfriedline/g/src/dDocent_run/dDocent\""
   ]
  },
  {
   "cell_type": "code",
   "execution_count": 0,
   "metadata": {
    "ExecuteTime": {},
    "collapsed": false
   },
   "outputs": [],
   "source": [
    "fastq_files = [x.strip() for x in open(\"/home/cfriedline/eckertlab/Mitra/SWWP_seq2/fastq_files.txt\").readlines()]"
   ]
  },
  {
   "cell_type": "code",
   "execution_count": 0,
   "metadata": {
    "ExecuteTime": {},
    "collapsed": false
   },
   "outputs": [],
   "source": [
    "fastq_files"
   ]
  },
  {
   "cell_type": "code",
   "execution_count": 0,
   "metadata": {
    "ExecuteTime": {},
    "collapsed": false
   },
   "outputs": [],
   "source": [
    "assert len(fastq_files) == len(set(fastq_files)) #list is unique"
   ]
  },
  {
   "cell_type": "code",
   "execution_count": 0,
   "metadata": {
    "ExecuteTime": {},
    "collapsed": true
   },
   "outputs": [],
   "source": [
    "analysis_dir = \"/home/cfriedline/eckertlab/Mitra/dDocent\""
   ]
  },
  {
   "cell_type": "code",
   "execution_count": 0,
   "metadata": {
    "ExecuteTime": {},
    "collapsed": false
   },
   "outputs": [],
   "source": [
    "rc = Client(profile=\"sge\")"
   ]
  },
  {
   "cell_type": "code",
   "execution_count": 0,
   "metadata": {
    "ExecuteTime": {},
    "collapsed": false
   },
   "outputs": [],
   "source": [
    "dv = rc[:]\n",
    "lv = rc.load_balanced_view()\n",
    "len(dv)"
   ]
  },
  {
   "cell_type": "code",
   "execution_count": 0,
   "metadata": {
    "ExecuteTime": {},
    "collapsed": false
   },
   "outputs": [],
   "source": [
    "with dv.sync_imports():\n",
    "    import os\n",
    "    import shutil"
   ]
  },
  {
   "cell_type": "code",
   "execution_count": 0,
   "metadata": {
    "ExecuteTime": {},
    "collapsed": true
   },
   "outputs": [],
   "source": [
    "def copy_file(args):\n",
    "    src, dst = args\n",
    "    shutil.copy(src, dst)\n",
    "    return dst"
   ]
  },
  {
   "cell_type": "code",
   "execution_count": 0,
   "metadata": {
    "ExecuteTime": {},
    "collapsed": true
   },
   "outputs": [],
   "source": [
    "dv['copy_file'] = copy_file"
   ]
  },
  {
   "cell_type": "code",
   "execution_count": 0,
   "metadata": {
    "ExecuteTime": {},
    "collapsed": false
   },
   "outputs": [],
   "source": [
    "def extract_pop_samp(name):\n",
    "    popname = None\n",
    "    sampname = None\n",
    "    if name.startswith(\"LP\"):\n",
    "        i = 2\n",
    "        popname = name[0:i]\n",
    "        sampname = name[i:]\n",
    "    else:\n",
    "        i = 3\n",
    "        popname = name[0:i]\n",
    "        sampname = name[i:]\n",
    "    return popname, sampname\n",
    "\n",
    "jobs = []\n",
    "for i, f in enumerate(fastq_files):\n",
    "    fname = os.path.basename(f).split(\".\")[0]\n",
    "    p, s = extract_pop_samp(fname)\n",
    "    dst = os.path.join(analysis_dir, \"{}_{}.F.fq\".format(p, fname))\n",
    "    jobs.append(lv.apply_async(copy_file, (f, dst)))"
   ]
  },
  {
   "cell_type": "code",
   "execution_count": 0,
   "metadata": {
    "ExecuteTime": {},
    "collapsed": false
   },
   "outputs": [],
   "source": [
    "np.sum([x.ready() for x in jobs]), len(jobs)"
   ]
  },
  {
   "cell_type": "code",
   "execution_count": 0,
   "metadata": {
    "ExecuteTime": {},
    "collapsed": false
   },
   "outputs": [],
   "source": [
    "%%writefile /home/cfriedline/eckertlab/Mitra/dDocent/dDocent.config\n",
    "Number of Processors\n",
    "40\n",
    "Maximum Memory\n",
    "30g\n",
    "Trimming\n",
    "yes\n",
    "Assembly?\n",
    "yes\n",
    "Type_of_Assembly\n",
    "SE\n",
    "Clustering_Similarity%\n",
    "0.86\n",
    "Mapping_Reads?\n",
    "yes\n",
    "Mapping_Match_Value\n",
    "1\n",
    "Mapping_MisMatch_Value\n",
    "4\n",
    "Mapping_GapOpen_Penalty\n",
    "6\n",
    "Calling_SNPs?\n",
    "yes\n",
    "Email\n",
    "cfriedline@vcu.edu"
   ]
  },
  {
   "cell_type": "markdown",
   "metadata": {},
   "source": [
    "### Compress fastq files\n",
    "\n",
    "```\n",
    "cd /home/cfriedline/eckertlab/Mitra/dDocent\n",
    "ls *.fq | parallel --bar bgzip {}\n",
    "```\n",
    "\n",
    "### Use TruSeq2-SE\n",
    "\n",
    "`sed -i 's/TruSeq2-PE/TruSeq2-SE/g' /home/cfriedline/g/src/dDocent_run/dDocent`\n",
    "\n",
    "### Choices during dDocent\n",
    "\n",
    "* Number of Unique Sequences with More than X Coverage (Counted within individuals): `3`\n",
    "* Number of Unique Sequences present in more than X Individuals: `15 (~5%)`\n",
    "\n",
    "### makefile\n",
    "\n",
    "```\n",
    ">cat /home/cfriedline/eckertlab/Mitra/dDocent/makefile\n",
    "\n",
    "default:\n",
    "    unset -f module; \\\n",
    "    OLDPATH=$$PATH; \\\n",
    "    export PATH=~/g/src/dDocent_run:~/g/src/dDocent_run/bwa:~/g/src/dDocent_run/seqtk; \\\n",
    "    export PATH=~/g/src/vcftools_0.1.11/bin:~/g/src/dDocent_run/freebayes/bin:$$PATH; \\\n",
    "    export PATH=$$PATH:$$OLDPATH; \\\n",
    "    ~/g/src/dDocent_run/dDocent dDocent.config\n",
    "\n",
    "```\n",
    "\n",
    "### Run\n",
    "\n",
    "```\n",
    "qrsh -N dD_Mitra -pe smp 40 -q godel199@godel96\n",
    "cd /home/cfriedline/eckertlab/Mitra/dDocent\n",
    "make\n",
    "```\n",
    "\n",
    "## Optimize %sim\n",
    "\n",
    "### In `./refopt`:\n",
    "\n",
    "```\n",
    "~/g/src/dDocent/scripts/ReferenceOpt.sh 4 8 10 15 SE 32\n",
    "```\n",
    "\n"
   ]
  },
  {
   "cell_type": "code",
   "execution_count": 0,
   "metadata": {
    "ExecuteTime": {},
    "collapsed": false
   },
   "outputs": [],
   "source": [
    "opt_df = pd.read_csv(\"~/eckertlab/Mitra/dDocent/opt/kopt.data\", \n",
    "                     sep=\" \", \n",
    "                     header=None,\n",
    "                    names=['k1', 'k2', 'sim', 'seqs'])"
   ]
  },
  {
   "cell_type": "code",
   "execution_count": 0,
   "metadata": {
    "ExecuteTime": {},
    "collapsed": true
   },
   "outputs": [],
   "source": [
    "import matplotlib.pyplot as plt\n",
    "import seaborn as sns\n",
    "%matplotlib inline\n",
    "from IPython.display import display\n",
    "sns.set_context(\"talk\")"
   ]
  },
  {
   "cell_type": "code",
   "execution_count": 0,
   "metadata": {
    "ExecuteTime": {},
    "collapsed": false
   },
   "outputs": [],
   "source": [
    "sns.boxplot(opt_df.seqs, groupby=opt_df.sim)"
   ]
  },
  {
   "cell_type": "markdown",
   "metadata": {
    "collapsed": true
   },
   "source": [
    "## Optimize k1, k2\n",
    "\n",
    "### In `./mapopt`\n",
    "\n",
    "```\n",
    "ln -s *F*.gz .\n",
    "ln -s *R1*.gz .\n",
    "wget https://raw.githubusercontent.com/jpuritz/WinterSchool.2016/master/Exercises/Day%201/RefMapOpt.sh\n",
    "# repace TruSeq*PE* with TruSeq*SE*\n",
    "# change `zcat $k.R.fq.gz | head -2 | tail -1 >> lengths.txt` to `zcat $k.F.fq.gz | head -2 | tail -1 >> lengths.txt`\n",
    "# change bwa mem string to:\n",
    "# bwa mem reference.fasta $k.R1.fq.gz -L 20,5 -t 32 -a -M -T 10 -A 1 -B 4 -O 6 -R \"@RG\\tID:$k\\tSM:$k\\tPL:Illumina\" 2> bwa.$i.log | mawk '!/\\t[2-9].[SH].*/' | mawk '!/[2-9].[SH]\\t/' | samtools view -@32 -q 1 -SbT reference.fasta - > $k.bam\n",
    "# change MM line to `MM=$(samtools flagstat $k.bam | grep -E 'mapped \\(' | cut -f1 -d '+' | tr -d '\\n')` to fix regex with samtools flagstat\n",
    "```\n",
    "\n",
    "### Setup makefile\n",
    "\n",
    "```\n",
    "default:\n",
    "        unset -f module; \\\n",
    "        OLDPATH=$$PATH; \\\n",
    "        export PATH=~/g/src/dDocent_run:~/g/src/dDocent_run/bwa:~/g/src/dDocent_run/seqtk; \\\n",
    "        export PATH=~/g/src/vcftools_0.1.11/bin:~/g/src/dDocent_run/freebayes/bin:$$PATH; \\\n",
    "        export PATH=/home/cfriedline/g/src/samtools-0.1.19:$$PATH; \\\n",
    "        export PATH=$$PATH:$$OLDPATH; \\\n",
    "        bash RefMapOpt.sh 2 6 6 10 0.86 50 SE\n",
    "```\n",
    "\n"
   ]
  },
  {
   "cell_type": "code",
   "execution_count": 0,
   "metadata": {
    "ExecuteTime": {},
    "collapsed": false
   },
   "outputs": [],
   "source": [
    "map_df = pd.read_csv(\"/home/cfriedline/eckertlab/Mitra/dDocent/mapopt/mapping.results\", sep=\"\\t\")\n",
    "map_df"
   ]
  },
  {
   "cell_type": "code",
   "execution_count": 0,
   "metadata": {
    "collapsed": true
   },
   "outputs": [],
   "source": []
  }
 ],
 "metadata": {
  "kernelspec": {
   "display_name": "Python 3",
   "language": "python",
   "name": "python3"
  },
  "language_info": {
   "codemirror_mode": {
    "name": "ipython",
    "version": 3
   },
   "file_extension": ".py",
   "mimetype": "text/x-python",
   "name": "python",
   "nbconvert_exporter": "python",
   "pygments_lexer": "ipython3",
   "version": "3.4.5"
  }
 },
 "nbformat": 4,
 "nbformat_minor": 0
}
