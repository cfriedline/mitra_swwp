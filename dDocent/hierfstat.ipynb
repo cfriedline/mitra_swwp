{
 "cells": [
  {
   "cell_type": "code",
   "execution_count": 0,
   "metadata": {
    "ExecuteTime": {},
    "collapsed": false
   },
   "outputs": [],
   "source": [
    "import sys\n",
    "\n",
    "sys.path.append(\"../include_utils/\")\n",
    "\n",
    "import ipyparallel as ipp\n",
    "import os, time\n",
    "import pandas as pd\n",
    "import numpy as np\n",
    "import scipy as sp\n",
    "import numbers\n",
    "import matplotlib.pyplot as plt\n",
    "import matplotlib.patches as mpatches\n",
    "import matplotlib.cm as cm\n",
    "import matplotlib.colors as mcolors\n",
    "import vcf\n",
    "from sklearn import preprocessing\n",
    "from subprocess import Popen, PIPE\n",
    "import seaborn as sns\n",
    "from IPython.display import FileLink\n",
    "import urllib.request as urllib2\n",
    "import dill\n",
    "import traceback\n",
    "from pandas import Series, DataFrame\n",
    "import gzip\n",
    "import warnings\n",
    "warnings.filterwarnings('ignore',category=pd.io.pytables.PerformanceWarning)\n",
    "%config InlineBackend.figure_format = 'retina'\n",
    "from Bio import SeqIO\n",
    "import pysam\n",
    "from collections import OrderedDict, namedtuple\n",
    "import operator\n",
    "import multiprocessing as mp\n",
    "import dill\n",
    "from scipy import stats\n",
    "from IPython.display import display\n",
    "import geopy\n",
    "\n",
    "samtools = \"/home/cfriedline/gpfs/src/samtools-1.3/samtools\"\n",
    "bcftools = \"/home/cfriedline/gpfs/src/bcftools-1.3/bcftools\"\n",
    "picard = \"/home/cfriedline/gpfs/src/broadinstitute-picard-03a1d72/dist/picard.jar\"\n",
    "java = \"/home/cfriedline/g/src/jdk1.8.0_60/bin/java\"\n",
    "perl = \"/home/cfriedline/gpfs/opt/ActivePerl-5.18/bin/perl\"\n",
    "\n",
    "vcfutils = \"perl /home/cfriedline/g/src/bcftools-1.3/vcfutils.pl\"\n",
    "vcftools = \"/home/cfriedline/bin/vcftools\"\n",
    "bcftools = \"/home/cfriedline/gpfs/src/bcftools-1.3/bcftools\"\n",
    "tabix = \"/home/cfriedline/gpfs/src/htslib-1.3/tabix\"\n",
    "bgzip = \"/home/cfriedline/gpfs/src/htslib-1.3/bgzip\"\n",
    "\n",
    "\n",
    "def setup_r():\n",
    "    os.environ['R_HOME'] = '/home/cfriedline/g/R3/lib64/R'\n",
    "    os.environ['LD_LIBRARY_PATH'] = \"%s/lib:%s:%s\" % (os.environ['R_HOME'], \n",
    "                                                   os.environ['LD_LIBRARY_PATH'],\n",
    "                                                     \"/home/cfriedline/lib64\")\n",
    "\n",
    "setup_r()\n",
    "import rpy2.robjects as robjects\n",
    "from rpy2.robjects import pandas2ri\n",
    "pandas2ri.activate()\n",
    "r = robjects.r\n",
    "\n",
    "%reload_ext autoreload\n",
    "%autoreload 2\n",
    "%matplotlib inline\n",
    "%reload_ext rpy2.ipython"
   ]
  },
  {
   "cell_type": "code",
   "execution_count": 0,
   "metadata": {
    "ExecuteTime": {},
    "collapsed": true
   },
   "outputs": [],
   "source": [
    "ni_dir = \"/home/cfriedline/eckertlab/Mitra/dDocent\"\n",
    "#imp_dir = \"/home/cfriedline/eckertlab/gypsy_indiv/raw_demult/analysis/samtools1.3_masurca3/beagle40\"\n",
    "notimputed_vcf_gz = os.path.join(ni_dir, \"isect_snps.recode.vcf.gz_sorted.vcf.gz\")\n",
    "#imputed_vcf_gz = os.path.join(imp_dir, \"isect_snps.recode.vcf.gz_sorted.vcf.gz\")\n",
    "vcf_files = [notimputed_vcf_gz]#, imputed_vcf_gz]"
   ]
  },
  {
   "cell_type": "code",
   "execution_count": 0,
   "metadata": {
    "ExecuteTime": {},
    "collapsed": false
   },
   "outputs": [],
   "source": [
    "hierf_trans = {0:11, 1:12, 2:22, -1:'NA'}\n",
    "def apply_hierf_trans(series):\n",
    "    return [hierf_trans[x] if x in hierf_trans else x for x in series]"
   ]
  },
  {
   "cell_type": "code",
   "execution_count": 0,
   "metadata": {
    "ExecuteTime": {},
    "collapsed": true
   },
   "outputs": [],
   "source": [
    "def read_df(dirname, fname):\n",
    "    f = os.path.join(dirname, \"%s.txt\" % fname)\n",
    "    return pd.read_csv(f, sep=\"\\t\", index_col=0)"
   ]
  },
  {
   "cell_type": "code",
   "execution_count": 0,
   "metadata": {
    "ExecuteTime": {},
    "collapsed": true
   },
   "outputs": [],
   "source": [
    "z12_swapped = [read_df(x, \"z12_swapped\") for x in [ni_dir]]"
   ]
  },
  {
   "cell_type": "code",
   "execution_count": 0,
   "metadata": {
    "ExecuteTime": {},
    "collapsed": false
   },
   "outputs": [],
   "source": [
    "z12_swapped[0].head()"
   ]
  },
  {
   "cell_type": "code",
   "execution_count": 0,
   "metadata": {
    "ExecuteTime": {},
    "collapsed": false
   },
   "outputs": [],
   "source": [
    "pops = pd.read_csv(\"~/eckertlab/Mitra/Pops.txt\", sep=\"\\t\")"
   ]
  },
  {
   "cell_type": "code",
   "execution_count": 0,
   "metadata": {
    "ExecuteTime": {},
    "collapsed": false
   },
   "outputs": [],
   "source": [
    "pops = pops.drop_duplicates()\n"
   ]
  },
  {
   "cell_type": "code",
   "execution_count": 0,
   "metadata": {
    "ExecuteTime": {},
    "collapsed": false
   },
   "outputs": [],
   "source": [
    "pops.head()"
   ]
  },
  {
   "cell_type": "code",
   "execution_count": 0,
   "metadata": {
    "ExecuteTime": {},
    "collapsed": false
   },
   "outputs": [],
   "source": [
    "z12_swapped[0].head()"
   ]
  },
  {
   "cell_type": "code",
   "execution_count": 0,
   "metadata": {
    "ExecuteTime": {},
    "collapsed": false
   },
   "outputs": [],
   "source": [
    "def get_species_label(row):\n",
    "    return pops[pops.Pop==row.population].Species.values[0]\n",
    "\n",
    "z12_swapped[0]['species'] = z12_swapped[0].apply(get_species_label, axis=1)"
   ]
  },
  {
   "cell_type": "code",
   "execution_count": 0,
   "metadata": {
    "ExecuteTime": {},
    "collapsed": false,
    "scrolled": true
   },
   "outputs": [],
   "source": [
    "z12_swapped[0]"
   ]
  },
  {
   "cell_type": "code",
   "execution_count": 0,
   "metadata": {
    "ExecuteTime": {},
    "collapsed": false,
    "run_control": {
     "marked": false
    }
   },
   "outputs": [],
   "source": [
    "hierf_df = [x.ix[:,:-3].apply(apply_hierf_trans) for x in z12_swapped]"
   ]
  },
  {
   "cell_type": "code",
   "execution_count": 0,
   "metadata": {
    "ExecuteTime": {},
    "collapsed": false
   },
   "outputs": [],
   "source": [
    "hierf_df[0].shape"
   ]
  },
  {
   "cell_type": "code",
   "execution_count": 0,
   "metadata": {
    "ExecuteTime": {},
    "collapsed": false
   },
   "outputs": [],
   "source": [
    "for i, df in enumerate(hierf_df):\n",
    "    hierf_df[i] = z12_swapped[i][['species', 'population']].join(df)"
   ]
  },
  {
   "cell_type": "code",
   "execution_count": 0,
   "metadata": {
    "ExecuteTime": {},
    "collapsed": false
   },
   "outputs": [],
   "source": [
    "hierf_df[0].head()"
   ]
  },
  {
   "cell_type": "code",
   "execution_count": 0,
   "metadata": {
    "ExecuteTime": {},
    "collapsed": false
   },
   "outputs": [],
   "source": [
    "for i, elem in enumerate(vcf_files):\n",
    "    filedir = os.path.dirname(elem)\n",
    "    outfile = os.path.join(filedir, \"isect_hierfstat.txt\")\n",
    "    hierf_df[i].to_csv(outfile, header=True, index=False, sep=\"\\t\")"
   ]
  },
  {
   "cell_type": "markdown",
   "metadata": {},
   "source": [
    "# Put into R (because it can be slow)\n",
    "\n",
    "```\n",
    "library(hierfstat)\n",
    "library(data.table)\n",
    "data = fread(\"isect_hierfstat.txt\", header=T, sep=\"\\t\", data.table=F)\n",
    "data$population = as.factor(data$population)\n",
    "data$species = as.factor(data$species)\n",
    "data2 = data[,c(1, 3:ncol(data))]\n",
    "levels1 = data.frame(data[,1:2])\n",
    "levels2 = data.frame(data[,2])\n",
    "loci = data[,3:ncol(data)]\n",
    "bs = basic.stats(data2)\n",
    "saveRDS(bs, \"isect_hierfstat_basic_stats.rds\")\n",
    "res1 = varcomp.glob(levels=levels1, loci=loci, diploid=T)\n",
    "res2 = varcomp.glob(levels=levels2, loci=loci, diploid=T)\n",
    "saveRDS(res1, \"isect_hierfstat_varcomp_nested_in_spp.rds\")\n",
    "saveRDS(res2, \"isect_hierfstat_varcomp.rds\")\n",
    "```\n",
    "\n",
    "### Also compute pairwise Fst (qrsh)\n",
    "```\n",
    "rm(list=ls())\n",
    "library(hierfstat)\n",
    "library(data.table)\n",
    "library(snow)\n",
    "data = fread(\"isect_hierfstat.txt\", header=T, sep=\"\\t\", data.table=F)\n",
    "levels = data.frame(data$popid)\n",
    "loci = data[,2:ncol(data)]\n",
    "\n",
    "run_varcomp = function(idx) {\n",
    "    i = args[[idx]]$i\n",
    "    j = args[[idx]]$j\n",
    "    key = paste(i, j, sep=\"-\")\n",
    "    d = copy(data)\n",
    "    d = subset(d, d$popid == i | d$popid == j)\n",
    "    levels = data.frame(d$popid)\n",
    "    loci = d[,2:ncol(d)]\n",
    "    return(varcomp.glob(levels=levels, loci=loci, diploid=T))\n",
    "}\n",
    "\n",
    "args = list()\n",
    "for (i in 1:6) {\n",
    "    for (j in 1:i) {\n",
    "        if (i != j) {\n",
    "            args[[length(args)+1]] = list(i=i, j=j)\n",
    "        }\n",
    "    }\n",
    "}\n",
    "\n",
    "hosts = rep(\"localhost\", length(args))\n",
    "cl = makeSOCKcluster(hosts)\n",
    "clusterExport(cl, \"data\")\n",
    "clusterEvalQ(cl, library(hierfstat))\n",
    "clusterEvalQ(cl, library(data.table))\n",
    "clusterExport(cl, \"args\")\n",
    "clusterExport(cl, \"run_varcomp\")\n",
    "pairwise_res = parLapply(cl, 1:length(args), \"run_varcomp\")\n",
    "saveRDS(pairwise_res, \"isect_hierfstat_pairwise.rds\")\n",
    "saveRDS(args, \"isect_hierfstat_pairwise_args.rds\")\n",
    "stopCluster(cl)\n",
    "\n",
    "```"
   ]
  },
  {
   "cell_type": "code",
   "execution_count": 0,
   "metadata": {
    "ExecuteTime": {},
    "collapsed": true
   },
   "outputs": [],
   "source": [
    "%%R\n",
    "varcomp_not = readRDS(\"/home/cfriedline/eckertlab/Mitra/dDocent/isect_hierfstat_varcomp.rds\")\n",
    "varcomp_nested = readRDS(\"/home/cfriedline/eckertlab/Mitra/dDocent/isect_hierfstat_varcomp_nested_in_spp.rds\")\n",
    "bs_not = readRDS(\"/home/cfriedline/eckertlab/Mitra/dDocent/isect_hierfstat_basic_stats.rds\")"
   ]
  },
  {
   "cell_type": "code",
   "execution_count": 0,
   "metadata": {
    "ExecuteTime": {},
    "collapsed": true
   },
   "outputs": [],
   "source": [
    "def get_r_series(key):\n",
    "    s = pd.Series(get_r(key))\n",
    "    s.index = get_r(\"names(%s)\" % key)\n",
    "    return s\n",
    "\n",
    "def get_r_df(key):\n",
    "    df = pd.DataFrame(get_r(key))\n",
    "    try:\n",
    "        rname = get_r(\"rownames(%s)\" % key)\n",
    "        df.index = rname\n",
    "    except:\n",
    "        pass\n",
    "    \n",
    "    try:\n",
    "        cname = get_r(\"colnames(%s)\" % key)\n",
    "        df.columns = cname\n",
    "    except:\n",
    "        pass\n",
    "    \n",
    "    return df\n",
    "\n",
    "def get_r(key):\n",
    "    return r(key)"
   ]
  },
  {
   "cell_type": "code",
   "execution_count": 0,
   "metadata": {
    "ExecuteTime": {},
    "collapsed": true
   },
   "outputs": [],
   "source": [
    "perloc = get_r_df(\"bs_not$perloc\")\n",
    "Ho = get_r_df(\"bs_not$Ho\")\n",
    "Hs = get_r_df(\"bs_not$Hs\")\n",
    "Fis = get_r_df(\"bs_not$Fis\")\n",
    "overall = get_r_series(\"bs_not$overall\")\n",
    "n_ind_samp = get_r_df(\"bs_not$n.ind.samp\")\n"
   ]
  },
  {
   "cell_type": "code",
   "execution_count": 0,
   "metadata": {
    "ExecuteTime": {},
    "collapsed": true
   },
   "outputs": [],
   "source": [
    "loc_df_pop = get_r_df('varcomp_not$loc')\n",
    "F_df_pop = get_r_df('varcomp_not$F')\n",
    "overall_df_pop = get_r_df('varcomp_not$overall')\n",
    "\n",
    "loc_df_spp = get_r_df('varcomp_nested$loc')\n",
    "F_df_spp = get_r_df('varcomp_nested$F')\n",
    "overall_df_spp = get_r_df('varcomp_nested$overall')"
   ]
  },
  {
   "cell_type": "code",
   "execution_count": 0,
   "metadata": {
    "ExecuteTime": {},
    "collapsed": false
   },
   "outputs": [],
   "source": [
    "F_df_pop"
   ]
  },
  {
   "cell_type": "code",
   "execution_count": 0,
   "metadata": {
    "ExecuteTime": {},
    "collapsed": false
   },
   "outputs": [],
   "source": [
    "F_df_spp"
   ]
  },
  {
   "cell_type": "code",
   "execution_count": 0,
   "metadata": {
    "ExecuteTime": {},
    "collapsed": true
   },
   "outputs": [],
   "source": [
    "def compute_fst(series):\n",
    "    Hs = series[0]\n",
    "    Ht = sum(series)\n",
    "    return Hs/Ht\n",
    "\n",
    "def compute_nested_fst(series):\n",
    "    Hs = sum(series[0:2])\n",
    "    Ht = sum(series)\n",
    "    return Hs/Ht"
   ]
  },
  {
   "cell_type": "code",
   "execution_count": 0,
   "metadata": {
    "ExecuteTime": {},
    "collapsed": true
   },
   "outputs": [],
   "source": [
    "loci_fst_pop = loc_df_pop.apply(compute_fst, axis=1)\n",
    "loci_fst_spp = loc_df_spp.apply(compute_fst, axis=1)\n",
    "loci_fst_spp_pop = loc_df_spp.apply(compute_nested_fst, axis=1)\n"
   ]
  },
  {
   "cell_type": "code",
   "execution_count": 0,
   "metadata": {
    "ExecuteTime": {},
    "collapsed": true
   },
   "outputs": [],
   "source": [
    "fst_df = pd.DataFrame(loci_fst_pop).join(pd.DataFrame(loci_fst_spp), lsuffix=\"_pop\", rsuffix=\"_spp\")\n",
    "fst_df.columns = [\"(pop, total)\", \"(spp, total)\"]"
   ]
  },
  {
   "cell_type": "code",
   "execution_count": 0,
   "metadata": {
    "ExecuteTime": {},
    "collapsed": false
   },
   "outputs": [],
   "source": [
    "loci_fst_spp_pop.name = \"(spp+pop, total)\"\n",
    "fst_df = fst_df.join(pd.DataFrame(loci_fst_spp_pop))"
   ]
  },
  {
   "cell_type": "code",
   "execution_count": 0,
   "metadata": {
    "ExecuteTime": {},
    "collapsed": false
   },
   "outputs": [],
   "source": [
    "fst_df[\"spp_sums\"] = fst_df.iloc[:,0] + fst_df.iloc[:,1]"
   ]
  },
  {
   "cell_type": "code",
   "execution_count": 0,
   "metadata": {
    "ExecuteTime": {},
    "collapsed": false
   },
   "outputs": [],
   "source": [
    "fst_df[fst_df < 0] = 0"
   ]
  },
  {
   "cell_type": "code",
   "execution_count": 0,
   "metadata": {
    "ExecuteTime": {},
    "collapsed": false
   },
   "outputs": [],
   "source": [
    "fst_df.head()"
   ]
  },
  {
   "cell_type": "code",
   "execution_count": 0,
   "metadata": {
    "ExecuteTime": {},
    "collapsed": false
   },
   "outputs": [],
   "source": [
    "fst_cutoff = fst_df[\"(spp+pop, total)\"].quantile(.75)"
   ]
  },
  {
   "cell_type": "code",
   "execution_count": 0,
   "metadata": {
    "ExecuteTime": {},
    "collapsed": false
   },
   "outputs": [],
   "source": [
    "fst_cutoff"
   ]
  },
  {
   "cell_type": "code",
   "execution_count": 0,
   "metadata": {
    "ExecuteTime": {},
    "collapsed": false
   },
   "outputs": [],
   "source": [
    "high_fst_snps = pd.DataFrame(fst_df[fst_df[\"(spp+pop, total)\"] > fst_cutoff])"
   ]
  },
  {
   "cell_type": "code",
   "execution_count": 0,
   "metadata": {
    "ExecuteTime": {},
    "collapsed": false
   },
   "outputs": [],
   "source": [
    "len(high_fst_snps)*4"
   ]
  },
  {
   "cell_type": "code",
   "execution_count": 0,
   "metadata": {
    "ExecuteTime": {},
    "collapsed": false
   },
   "outputs": [],
   "source": [
    "sns.distplot(high_fst_snps[\"(spp+pop, total)\"], kde=False, color=\"orange\")\n",
    "sns.distplot(fst_df[\"(spp+pop, total)\"], kde=False)\n",
    "plt.title(\"top 25% of SNPs(Fst > {}, n = {})\".format(np.round(fst_cutoff, 4), len(high_fst_snps)))\n",
    "plt.ylim(0, 5000)\n",
    "plt.show()"
   ]
  },
  {
   "cell_type": "code",
   "execution_count": 0,
   "metadata": {
    "ExecuteTime": {},
    "collapsed": false
   },
   "outputs": [],
   "source": [
    "sns.set_context(\"talk\")\n",
    "sns.set_style(\"white\")\n",
    "sns.regplot(\"(pop, total)\", \"(spp, total)\", data=fst_df)\n",
    "plt.show()"
   ]
  },
  {
   "cell_type": "code",
   "execution_count": 0,
   "metadata": {
    "ExecuteTime": {},
    "collapsed": false
   },
   "outputs": [],
   "source": [
    "res = stats.linregress(fst_df.iloc[:,0], fst_df.iloc[:,1])\n",
    "res"
   ]
  },
  {
   "cell_type": "code",
   "execution_count": 0,
   "metadata": {
    "ExecuteTime": {},
    "collapsed": false
   },
   "outputs": [],
   "source": [
    "popid_map = {}\n",
    "for population, data in z12_swapped[0].groupby(\"population\"):\n",
    "    popid = data['popid'].unique()[0]\n",
    "    print(population, popid)\n",
    "    popid_map[popid] = population"
   ]
  },
  {
   "cell_type": "code",
   "execution_count": 0,
   "metadata": {
    "ExecuteTime": {},
    "collapsed": false
   },
   "outputs": [],
   "source": [
    "high_fst_snps[\"contig\"] = high_fst_snps.apply(lambda x: x.name.split(\"-\")[0], axis=1)\n",
    "high_fst_snps[\"position\"] = high_fst_snps.apply(lambda x: int(x.name.split(\"-\")[1]), axis=1)\n"
   ]
  },
  {
   "cell_type": "code",
   "execution_count": 0,
   "metadata": {
    "ExecuteTime": {},
    "collapsed": false
   },
   "outputs": [],
   "source": [
    "high_fst_snps[['contig', 'position', \"(spp+pop, total)\"]].to_csv(os.path.join(ni_dir, \"high_fst_snps.txt\"), sep=\"\\t\", header=True, index=None)"
   ]
  },
  {
   "cell_type": "code",
   "execution_count": 0,
   "metadata": {
    "ExecuteTime": {},
    "collapsed": false
   },
   "outputs": [],
   "source": [
    "from pyfasta import Fasta"
   ]
  },
  {
   "cell_type": "code",
   "execution_count": 0,
   "metadata": {
    "ExecuteTime": {},
    "collapsed": true
   },
   "outputs": [],
   "source": [
    "assembly = os.path.join(ni_dir, \"reference.fasta\")"
   ]
  },
  {
   "cell_type": "code",
   "execution_count": 0,
   "metadata": {
    "ExecuteTime": {},
    "collapsed": false
   },
   "outputs": [],
   "source": [
    "ref = Fasta(assembly)"
   ]
  },
  {
   "cell_type": "code",
   "execution_count": 0,
   "metadata": {
    "ExecuteTime": {},
    "collapsed": false
   },
   "outputs": [],
   "source": [
    "with open(os.path.join(ni_dir, \"high_fst_snps.fasta\"), \"w\") as o:\n",
    "    for c in high_fst_snps.contig.values:\n",
    "        o.write(\">{}\\n{}\\n\".format(c, ref[c]))"
   ]
  },
  {
   "cell_type": "code",
   "execution_count": 0,
   "metadata": {
    "collapsed": true
   },
   "outputs": [],
   "source": []
  }
 ],
 "metadata": {
  "kernelspec": {
   "display_name": "Python 3",
   "language": "python",
   "name": "python3"
  },
  "language_info": {
   "codemirror_mode": {
    "name": "ipython",
    "version": 3
   },
   "file_extension": ".py",
   "mimetype": "text/x-python",
   "name": "python",
   "nbconvert_exporter": "python",
   "pygments_lexer": "ipython3",
   "version": "3.5.2"
  }
 },
 "nbformat": 4,
 "nbformat_minor": 0
}
