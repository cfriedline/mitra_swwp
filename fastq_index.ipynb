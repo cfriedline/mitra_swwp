{
 "cells": [
  {
   "cell_type": "code",
   "execution_count": 0,
   "metadata": {
    "ExecuteTime": {},
    "collapsed": false
   },
   "outputs": [],
   "source": [
    "import os, sys\n",
    "from ipyparallel import Client\n",
    "import matplotlib.pyplot as plt\n",
    "%matplotlib inline\n",
    "from subprocess import Popen, PIPE\n",
    "from Bio import SeqIO\n",
    "import pandas as pd\n",
    "import pickle\n",
    "import scandir\n",
    "import sqlite3\n",
    "from sqlalchemy import create_engine, MetaData, Table, Column, VARCHAR\n",
    "from sqlalchemy.ext.declarative import declarative_base\n",
    "from sqlalchemy.orm import sessionmaker\n",
    "from ipyparallel import Client\n",
    "import filelock\n",
    "from pymongo import MongoClient"
   ]
  },
  {
   "cell_type": "markdown",
   "metadata": {},
   "source": [
    "## Start mongodb on cluster (godel96)\n",
    "\n",
    "```\n",
    "numactl --interleave=all \\\n",
    "/gpfs_fs/home/eckertlab/src/mongodb-linux-x86_64-3.2.5/bin/mongod \\\n",
    "--port 27019 \\\n",
    "--dbpath /gpfs_fs/home/eckertlab/Mitra/SWWP_seq2/db\n",
    "```"
   ]
  },
  {
   "cell_type": "code",
   "execution_count": 0,
   "metadata": {
    "ExecuteTime": {},
    "collapsed": false
   },
   "outputs": [],
   "source": [
    "mongo = MongoClient('godel96', 27019)\n",
    "db = mongo.fastq_index"
   ]
  },
  {
   "cell_type": "code",
   "execution_count": 0,
   "metadata": {
    "ExecuteTime": {},
    "collapsed": true
   },
   "outputs": [],
   "source": [
    "#db.drop_collection(\"reads\") #start this over, if needed"
   ]
  },
  {
   "cell_type": "code",
   "execution_count": 0,
   "metadata": {
    "ExecuteTime": {},
    "collapsed": false
   },
   "outputs": [],
   "source": [
    "sys.path.append(\"/home/cfriedline/ipynb/include_utils\")"
   ]
  },
  {
   "cell_type": "code",
   "execution_count": 0,
   "metadata": {
    "ExecuteTime": {},
    "collapsed": false
   },
   "outputs": [],
   "source": [
    "import include_utils as u"
   ]
  },
  {
   "cell_type": "code",
   "execution_count": 0,
   "metadata": {
    "ExecuteTime": {},
    "collapsed": true
   },
   "outputs": [],
   "source": [
    "root = \"/home/cfriedline/eckertlab/Mitra/SWWP_seq2\""
   ]
  },
  {
   "cell_type": "code",
   "execution_count": 0,
   "metadata": {
    "ExecuteTime": {},
    "collapsed": false
   },
   "outputs": [],
   "source": [
    "fastq_files = open(os.path.join(root, \"fastq_files.txt\")).readlines()\n",
    "fastq_files = [x.strip() for x in fastq_files]"
   ]
  },
  {
   "cell_type": "code",
   "execution_count": 0,
   "metadata": {
    "ExecuteTime": {},
    "collapsed": false
   },
   "outputs": [],
   "source": [
    "len(fastq_files)"
   ]
  },
  {
   "cell_type": "code",
   "execution_count": 0,
   "metadata": {
    "ExecuteTime": {},
    "collapsed": true
   },
   "outputs": [],
   "source": [
    "from Bio.SeqIO.QualityIO import FastqGeneralIterator"
   ]
  },
  {
   "cell_type": "code",
   "execution_count": 0,
   "metadata": {
    "ExecuteTime": {},
    "collapsed": false
   },
   "outputs": [],
   "source": [
    "rc = Client(profile=\"sge\")"
   ]
  },
  {
   "cell_type": "code",
   "execution_count": 0,
   "metadata": {
    "ExecuteTime": {},
    "collapsed": false
   },
   "outputs": [],
   "source": [
    "dv = rc[:]\n",
    "lv = rc.load_balanced_view()\n",
    "len(dv)"
   ]
  },
  {
   "cell_type": "code",
   "execution_count": 0,
   "metadata": {
    "ExecuteTime": {},
    "collapsed": false
   },
   "outputs": [],
   "source": [
    "with dv.sync_imports():\n",
    "    import os\n",
    "    from sqlalchemy import create_engine, insert\n",
    "    from Bio.SeqIO.QualityIO import FastqGeneralIterator\n",
    "    from pymongo import MongoClient"
   ]
  },
  {
   "cell_type": "code",
   "execution_count": 0,
   "metadata": {
    "ExecuteTime": {},
    "collapsed": true
   },
   "outputs": [],
   "source": [
    "db = mongo.fastq_index\n",
    "reads = db.reads"
   ]
  },
  {
   "cell_type": "code",
   "execution_count": 0,
   "metadata": {
    "ExecuteTime": {},
    "collapsed": false
   },
   "outputs": [],
   "source": [
    "# reads.insert_one({})\n",
    "# reads.index_information()"
   ]
  },
  {
   "cell_type": "code",
   "execution_count": 0,
   "metadata": {
    "ExecuteTime": {},
    "collapsed": false
   },
   "outputs": [],
   "source": [
    "def process_fastq(f):\n",
    "    mongo = MongoClient('godel96', 27019)\n",
    "    db = mongo.fastq_index\n",
    "    reads = db.reads\n",
    "    count = 0\n",
    "    batch = []\n",
    "    sample = os.path.basename(f)\n",
    "    for name, seq, qual in FastqGeneralIterator(open(f)):\n",
    "        batch.append({\"read\":name.split()[0], \"sample\":sample})\n",
    "        count += 1\n",
    "        if count % 500000 == 0:\n",
    "            print(sample, count)\n",
    "            reads.insert_many(batch)\n",
    "            batch = []\n",
    "    reads.insert_many(batch)\n",
    "    return f, count"
   ]
  },
  {
   "cell_type": "code",
   "execution_count": 0,
   "metadata": {
    "ExecuteTime": {},
    "collapsed": true
   },
   "outputs": [],
   "source": [
    "dv['process_fastq'] = process_fastq"
   ]
  },
  {
   "cell_type": "code",
   "execution_count": 0,
   "metadata": {
    "ExecuteTime": {},
    "collapsed": false
   },
   "outputs": [],
   "source": [
    "jobs = []\n",
    "for i, f in enumerate(fastq_files):\n",
    "    j = lv.apply(process_fastq, f)\n",
    "    jobs.append(j)"
   ]
  },
  {
   "cell_type": "code",
   "execution_count": 0,
   "metadata": {
    "ExecuteTime": {},
    "collapsed": false
   },
   "outputs": [],
   "source": [
    "sum([x.ready() for x in jobs])"
   ]
  },
  {
   "cell_type": "code",
   "execution_count": 0,
   "metadata": {
    "ExecuteTime": {},
    "collapsed": false
   },
   "outputs": [],
   "source": [
    "[x.r for x in jobs if x.ready()]"
   ]
  },
  {
   "cell_type": "code",
   "execution_count": 0,
   "metadata": {
    "ExecuteTime": {},
    "collapsed": false
   },
   "outputs": [],
   "source": [
    "with open(\"/gpfs_fs/home/eckertlab/Mitra/SWWP_seq2/dedupe/fastq_index.txt\", \"w\") as o:\n",
    "    for x in jobs:\n",
    "        o.write(\"{}\\n\".format(\"\\t\".join([str(x) for x in x.r])))"
   ]
  },
  {
   "cell_type": "markdown",
   "metadata": {
    "collapsed": true
   },
   "source": [
    "## Create index on read ID\n",
    "```\n",
    "/gpfs_fs/home/eckertlab/src/mongodb-linux-x86_64-3.2.5/bin/mongo --host godel96 --port 27018\n",
    "> use fastq_index\n",
    "> db.reads.createIndex({\"read\":1}, {unique:false})\n",
    "```"
   ]
  }
 ],
 "metadata": {
  "kernelspec": {
   "display_name": "Python 3",
   "language": "python",
   "name": "python3"
  },
  "language_info": {
   "codemirror_mode": {
    "name": "ipython",
    "version": 3
   },
   "file_extension": ".py",
   "mimetype": "text/x-python",
   "name": "python",
   "nbconvert_exporter": "python",
   "pygments_lexer": "ipython3",
   "version": "3.4.4"
  }
 },
 "nbformat": 4,
 "nbformat_minor": 0
}
