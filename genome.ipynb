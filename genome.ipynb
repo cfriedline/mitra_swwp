{
 "cells": [
  {
   "cell_type": "code",
   "execution_count": 0,
   "metadata": {
    "ExecuteTime": {},
    "collapsed": true
   },
   "outputs": [],
   "source": [
    "from Bio.SeqIO.QualityIO import FastqGeneralIterator\n",
    "import pandas as pd\n",
    "import numpy as np\n",
    "import scipy as np\n",
    "import matplotlib.pyplot as plot\n",
    "import seaborn as sns\n",
    "import os\n",
    "import sys"
   ]
  },
  {
   "cell_type": "code",
   "execution_count": 0,
   "metadata": {
    "ExecuteTime": {},
    "collapsed": true
   },
   "outputs": [],
   "source": [
    "filedir = \"/gpfs_fs/home/eckertlab/SugarPine_genome\""
   ]
  },
  {
   "cell_type": "code",
   "execution_count": 0,
   "metadata": {
    "ExecuteTime": {},
    "collapsed": true
   },
   "outputs": [],
   "source": [
    "scaffolds = os.path.join(filedir, \"pila.v1.0.scafSeq\")"
   ]
  },
  {
   "cell_type": "code",
   "execution_count": 0,
   "metadata": {
    "ExecuteTime": {},
    "collapsed": false
   },
   "outputs": [],
   "source": [
    "assert os.path.exists(scaffolds)"
   ]
  },
  {
   "cell_type": "code",
   "execution_count": 0,
   "metadata": {
    "ExecuteTime": {},
    "collapsed": false
   },
   "outputs": [],
   "source": [
    "%%writefile /gpfs_fs/home/eckertlab/SugarPine_genome/bowtie_build.sh\n",
    "#!/bin/bash\n",
    "#$ -N bowtie-build\n",
    "#$ -j no\n",
    "#$ -e bowtie-build.err\n",
    "#$ -o bowtie-build.out\n",
    "#$ -pe smp 30\n",
    "#$ -q godel199\n",
    "#$ -V \n",
    "#$ -cwd\n",
    "/home/cfriedline/eckertlab/src/bowtie2-2.2.7/bowtie2-build -f --threads 30 \\\n",
    "/home/cfriedline/eckertlab/SugarPine_genome/pila.v1.0.scafSeq \\\n",
    "/home/cfriedline/eckertlab/SugarPine_genome/pila.v1.0.scafSeq \n"
   ]
  },
  {
   "cell_type": "code",
   "execution_count": 0,
   "metadata": {
    "collapsed": true
   },
   "outputs": [],
   "source": []
  }
 ],
 "metadata": {
  "kernelspec": {
   "display_name": "Python 3",
   "language": "python",
   "name": "python3"
  },
  "language_info": {
   "codemirror_mode": {
    "name": "ipython",
    "version": 3
   },
   "file_extension": ".py",
   "mimetype": "text/x-python",
   "name": "python",
   "nbconvert_exporter": "python",
   "pygments_lexer": "ipython3",
   "version": "3.4.4"
  }
 },
 "nbformat": 4,
 "nbformat_minor": 0
}
