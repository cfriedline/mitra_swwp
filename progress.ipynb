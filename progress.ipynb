{
 "cells": [
  {
   "cell_type": "code",
   "execution_count": 0,
   "metadata": {
    "ExecuteTime": {},
    "collapsed": false
   },
   "outputs": [],
   "source": [
    "import sys\n",
    "\n",
    "sys.path.append(\"../include_utils/\")\n",
    "\n",
    "#from IPython.parallel import Client\n",
    "import ipyparallel as ipp\n",
    "import os, time\n",
    "import include_utils as u\n",
    "import pandas as pd\n",
    "import numpy as np\n",
    "import scipy as sp\n",
    "import numbers\n",
    "import matplotlib.pyplot as plt\n",
    "import matplotlib.patches as mpatches\n",
    "import matplotlib.cm as cm\n",
    "import matplotlib.colors as mcolors\n",
    "import vcf\n",
    "from sklearn import preprocessing\n",
    "from subprocess import Popen, PIPE\n",
    "import seaborn as sns\n",
    "from IPython.display import FileLink\n",
    "import urllib.request as urllib2\n",
    "import pickle\n",
    "import traceback\n",
    "from pandas import Series, DataFrame\n",
    "import gzip\n",
    "import warnings\n",
    "warnings.filterwarnings('ignore',category=pd.io.pytables.PerformanceWarning)\n",
    "%config InlineBackend.figure_format = 'retina'\n",
    "from Bio import SeqIO\n",
    "import pysam\n",
    "from collections import OrderedDict, namedtuple\n",
    "import operator\n",
    "import multiprocessing as mp\n",
    "from ipyparallel import Client\n",
    "from Bio import SeqIO\n",
    "import pyfaidx\n",
    "import pyfasta\n",
    "import textwrap\n",
    "import tempfile\n",
    "%matplotlib inline\n",
    "from collections import Counter"
   ]
  },
  {
   "cell_type": "code",
   "execution_count": 0,
   "metadata": {
    "ExecuteTime": {},
    "collapsed": false
   },
   "outputs": [],
   "source": [
    "cd \"~/eckertlab/Mitra/mapping/split_parallel/collapsed/\""
   ]
  },
  {
   "cell_type": "code",
   "execution_count": 0,
   "metadata": {
    "ExecuteTime": {},
    "collapsed": false
   },
   "outputs": [],
   "source": [
    "mapped = !ls *mapped.bam"
   ]
  },
  {
   "cell_type": "code",
   "execution_count": 0,
   "metadata": {
    "ExecuteTime": {},
    "collapsed": false
   },
   "outputs": [],
   "source": [
    "samtools = \"/home/cfriedline/bin/samtools\""
   ]
  },
  {
   "cell_type": "code",
   "execution_count": 0,
   "metadata": {
    "ExecuteTime": {},
    "collapsed": true
   },
   "outputs": [],
   "source": [
    "from subprocess import Popen, PIPE, STDOUT"
   ]
  },
  {
   "cell_type": "code",
   "execution_count": 0,
   "metadata": {
    "ExecuteTime": {},
    "collapsed": false
   },
   "outputs": [],
   "source": [
    "rc = Client(profile = \"sge\")\n",
    "dv = rc[:]\n",
    "lv = rc.load_balanced_view()\n",
    "len(dv)"
   ]
  },
  {
   "cell_type": "code",
   "execution_count": 0,
   "metadata": {
    "ExecuteTime": {},
    "collapsed": false
   },
   "outputs": [],
   "source": [
    "with dv.sync_imports():\n",
    "    from subprocess import Popen, PIPE, STDOUT\n",
    "    import os\n",
    "    import socket\n",
    "    import numpy"
   ]
  },
  {
   "cell_type": "code",
   "execution_count": 0,
   "metadata": {
    "ExecuteTime": {},
    "collapsed": false
   },
   "outputs": [],
   "source": [
    "bams = !ls *mapped.bam"
   ]
  },
  {
   "cell_type": "code",
   "execution_count": 0,
   "metadata": {
    "ExecuteTime": {},
    "collapsed": false
   },
   "outputs": [],
   "source": [
    "f = pysam.AlignmentFile(bams[0])"
   ]
  },
  {
   "cell_type": "code",
   "execution_count": 0,
   "metadata": {
    "ExecuteTime": {},
    "collapsed": false
   },
   "outputs": [],
   "source": [
    "for x in f.fetch():\n",
    "    print(x.reference_start, x.reference_end, x.alen, x.mapping_quality)"
   ]
  },
  {
   "cell_type": "code",
   "execution_count": 0,
   "metadata": {
    "ExecuteTime": {},
    "collapsed": true
   },
   "outputs": [],
   "source": [
    "dv['samtools'] = samtools"
   ]
  },
  {
   "cell_type": "code",
   "execution_count": 0,
   "metadata": {
    "ExecuteTime": {},
    "collapsed": true
   },
   "outputs": [],
   "source": [
    "%px cd \"~/eckertlab/Mitra/mapping/split_parallel/collapsed/\""
   ]
  },
  {
   "cell_type": "code",
   "execution_count": 0,
   "metadata": {
    "ExecuteTime": {},
    "collapsed": false
   },
   "outputs": [],
   "source": [
    "def run_cmd(cmd):\n",
    "    p = Popen(cmd, stdout=PIPE, shell=True)\n",
    "    p.wait()\n",
    "    stdout = list(p.stdout)\n",
    "    return stdout\n",
    "\n",
    "def get_pos_of_alignment(args):\n",
    "    bam, contig = args\n",
    "    cmd1 = \"%s view %s | grep -n %s\" % (samtools, bam, contig)\n",
    "    cmd2 = \"%s view %s | grep -c .\" % (samtools, bam)\n",
    "    print(cmd1)\n",
    "    stdout1 = run_cmd(cmd1)\n",
    "    print(cmd2)\n",
    "    stdout2 = run_cmd(cmd2)\n",
    "    total = int(stdout2[0].decode().strip())\n",
    "    if len(stdout1) == 0:\n",
    "        return bam, total   \n",
    "    lines = []\n",
    "    for elem in stdout1:\n",
    "        elem = elem.decode().strip()\n",
    "        elem = elem.split()\n",
    "        line = elem[0].split(\":\")[0]\n",
    "        lines.append(int(line))\n",
    "    maxx = max(lines)\n",
    "    return bam, maxx, total, maxx/total"
   ]
  },
  {
   "cell_type": "code",
   "execution_count": 0,
   "metadata": {
    "ExecuteTime": {},
    "collapsed": false
   },
   "outputs": [],
   "source": [
    "dv['get_pos_of_alignment'] = get_pos_of_alignment\n",
    "dv['run_cmd'] = run_cmd"
   ]
  },
  {
   "cell_type": "code",
   "execution_count": 0,
   "metadata": {
    "ExecuteTime": {},
    "collapsed": false
   },
   "outputs": [],
   "source": [
    "contig = \"super10388\"\n",
    "contig = \"super10514\"\n",
    "jobs = []\n",
    "for b in bams:\n",
    "    j = lv.apply_async(get_pos_of_alignment, (b, contig))\n",
    "    jobs.append(j)"
   ]
  },
  {
   "cell_type": "code",
   "execution_count": 0,
   "metadata": {
    "ExecuteTime": {},
    "collapsed": false
   },
   "outputs": [],
   "source": [
    "np.sum([x.ready() for x in jobs])"
   ]
  },
  {
   "cell_type": "code",
   "execution_count": 0,
   "metadata": {
    "ExecuteTime": {},
    "collapsed": false
   },
   "outputs": [],
   "source": [
    "percent_done = []\n",
    "for j in jobs:\n",
    "    if j.ready():\n",
    "        res = j.r\n",
    "        if len(res) == 4:\n",
    "            percent_done.append(j[-1])\n",
    "pd.Series(percent_done).describe()"
   ]
  },
  {
   "cell_type": "code",
   "execution_count": 0,
   "metadata": {
    "ExecuteTime": {},
    "collapsed": false
   },
   "outputs": [],
   "source": []
  },
  {
   "cell_type": "markdown",
   "metadata": {},
   "source": [
    "### Progress \n",
    "```\n",
    "count    357.000000\n",
    "mean       0.098760\n",
    "std        0.022912\n",
    "min        0.028845\n",
    "25%        0.085339\n",
    "50%        0.104062\n",
    "75%        0.117053\n",
    "max        0.133072\n",
    "dtype: float64\n",
    "```\n",
    "\n",
    "```\n",
    "count    350.000000\n",
    "mean       0.099311\n",
    "std        0.023422\n",
    "min        0.029170\n",
    "25%        0.085592\n",
    "50%        0.104524\n",
    "75%        0.118051\n",
    "max        0.134560\n",
    "dtype: float64\n",
    "```\n"
   ]
  },
  {
   "cell_type": "code",
   "execution_count": 0,
   "metadata": {
    "collapsed": true
   },
   "outputs": [],
   "source": []
  }
 ],
 "metadata": {
  "kernelspec": {
   "display_name": "Python 3",
   "language": "python",
   "name": "python3"
  },
  "language_info": {
   "codemirror_mode": {
    "name": "ipython",
    "version": 3
   },
   "file_extension": ".py",
   "mimetype": "text/x-python",
   "name": "python",
   "nbconvert_exporter": "python",
   "pygments_lexer": "ipython3",
   "version": "3.4.4"
  }
 },
 "nbformat": 4,
 "nbformat_minor": 0
}
