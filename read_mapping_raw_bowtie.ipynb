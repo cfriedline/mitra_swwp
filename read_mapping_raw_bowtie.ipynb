{
 "cells": [
  {
   "cell_type": "code",
   "execution_count": 0,
   "metadata": {
    "ExecuteTime": {},
    "collapsed": false
   },
   "outputs": [],
   "source": [
    "import os, sys\n",
    "from ipyparallel import Client\n",
    "import matplotlib.pyplot as plt\n",
    "%matplotlib inline\n",
    "from subprocess import Popen, PIPE\n",
    "from Bio import SeqIO\n",
    "import pandas as pd\n",
    "import pickle\n",
    "import scandir"
   ]
  },
  {
   "cell_type": "code",
   "execution_count": 0,
   "metadata": {
    "ExecuteTime": {},
    "collapsed": true
   },
   "outputs": [],
   "source": [
    "sys.path.append(\"/home/cfriedline/ipynb/include_utils\")"
   ]
  },
  {
   "cell_type": "code",
   "execution_count": 0,
   "metadata": {
    "ExecuteTime": {},
    "collapsed": false
   },
   "outputs": [],
   "source": [
    "import include_utils as u"
   ]
  },
  {
   "cell_type": "code",
   "execution_count": 0,
   "metadata": {
    "ExecuteTime": {},
    "collapsed": true
   },
   "outputs": [],
   "source": [
    "root = \"/home/cfriedline/eckertlab/Mitra/SWWP_seq2\"\n",
    "\n",
    "fastq_files = open(os.path.join(root, \"fastq_files.txt\")).readlines()\n",
    "fastq_files = sorted([x.strip() for x in fastq_files])"
   ]
  },
  {
   "cell_type": "code",
   "execution_count": 0,
   "metadata": {
    "ExecuteTime": {},
    "collapsed": false
   },
   "outputs": [],
   "source": [
    "len(fastq_files)"
   ]
  },
  {
   "cell_type": "code",
   "execution_count": 0,
   "metadata": {
    "ExecuteTime": {},
    "collapsed": false
   },
   "outputs": [],
   "source": [
    "assembly = \"/gpfs_fs/home/eckertlab/SugarPine_genome/pila.v1.0.scafSeq\""
   ]
  },
  {
   "cell_type": "code",
   "execution_count": 0,
   "metadata": {
    "ExecuteTime": {},
    "collapsed": false
   },
   "outputs": [],
   "source": [
    "# --very-fast-local\n",
    "# Same as: -D 5 -R 1 -N 0 -L 25 -i S,1,2.00\n",
    "\n",
    "# --fast-local\n",
    "# Same as: -D 10 -R 2 -N 0 -L 22 -i S,1,1.75\n",
    "\n",
    "# --sensitive-local\n",
    "# Same as: -D 15 -R 2 -N 0 -L 20 -i S,1,0.75 (default in --local mode)\n",
    "\n",
    "# --very-sensitive-local\n",
    "# Same as: -D 20 -R 3 -N 0 -L 20 -i S,1,0.50\n",
    "\n",
    "#@lview.remote()\n",
    "def run_bowtie2(args):\n",
    "    import os, stopwatch, multiprocessing, socket\n",
    "    print(socket.gethostname())\n",
    "    timer = stopwatch.Timer()\n",
    "    cpus = 64\n",
    "    assembly, reads, outdir = args\n",
    "    sam = os.path.join(outdir, \"%s.sam\" % (\"all_fastq\"))\n",
    "    cmd = \"/home/cfriedline/g/src/bowtie2-2.2.9/bowtie2 --local -D 20 -R 3 -N 1 -L 20 -i S,1,0.50 -p %d -x %s -U %s -S %s\" % (cpus,\n",
    "                                                               assembly,\n",
    "                                                               reads,\n",
    "                                                               sam)\n",
    "    res = None\n",
    "    res = cmd\n",
    "#     if not os.path.exists(sam):\n",
    "#         res = !$cmd\n",
    "    timer.stop()\n",
    "    return assembly, sam, cmd, timer.elapsed, res"
   ]
  },
  {
   "cell_type": "code",
   "execution_count": 0,
   "metadata": {
    "ExecuteTime": {},
    "collapsed": true
   },
   "outputs": [],
   "source": [
    "sam_outdir = \"/gpfs_fs/home/eckertlab/Mitra/SWWP_seq2/dedupe/mapping\""
   ]
  },
  {
   "cell_type": "code",
   "execution_count": 0,
   "metadata": {
    "ExecuteTime": {},
    "collapsed": true
   },
   "outputs": [],
   "source": [
    "!mkdir $sam_outdir"
   ]
  },
  {
   "cell_type": "code",
   "execution_count": 0,
   "metadata": {
    "ExecuteTime": {},
    "collapsed": false
   },
   "outputs": [],
   "source": [
    "cmd = run_bowtie2((assembly, ','.join(fastq_files), sam_outdir))[2]"
   ]
  },
  {
   "cell_type": "code",
   "execution_count": 0,
   "metadata": {
    "ExecuteTime": {},
    "collapsed": false
   },
   "outputs": [],
   "source": [
    "cmd"
   ]
  },
  {
   "cell_type": "code",
   "execution_count": 0,
   "metadata": {
    "ExecuteTime": {},
    "collapsed": false
   },
   "outputs": [],
   "source": [
    "root"
   ]
  },
  {
   "cell_type": "code",
   "execution_count": 0,
   "metadata": {
    "ExecuteTime": {},
    "collapsed": false
   },
   "outputs": [],
   "source": [
    "pwd"
   ]
  },
  {
   "cell_type": "code",
   "execution_count": 0,
   "metadata": {
    "ExecuteTime": {},
    "collapsed": false
   },
   "outputs": [],
   "source": [
    "with open(os.path.join(root, \"bowtie.sh\"), \"w\") as o:\n",
    "    s = \"\"\"\n",
    "#!/bin/bash\n",
    "\n",
    "#$ -S /bin/bash\n",
    "#$ -N bowtie\n",
    "#$ -pe smp 64\n",
    "#$ -q godel199@godel97\n",
    "#$ -V\n",
    "#$ -cwd\n",
    "#$ -e bowtie.err\n",
    "#$ -o bowtie.out\n",
    "%s\"\"\" % cmd\n",
    "    o.write(\"%s\\n\" % s)"
   ]
  },
  {
   "cell_type": "markdown",
   "metadata": {},
   "source": [
    "## Run bowtie command\n",
    "\n",
    "```bash\n",
    "chmod +x bowtie.sh\n",
    "qsub bowtie.sh\n",
    "```"
   ]
  },
  {
   "cell_type": "code",
   "execution_count": 0,
   "metadata": {
    "ExecuteTime": {},
    "collapsed": false
   },
   "outputs": [],
   "source": [
    "@lview.remote()\n",
    "def convert_sam_to_bam(sam):\n",
    "    import stopwatch, multiprocessing, os\n",
    "    timer = stopwatch.Timer()\n",
    "    cpus = multiprocessing.cpu_count()\n",
    "    bam = sam.replace(\".sam\", \".bam\")\n",
    "    bam_sorted = \"%s_sorted.bam\" % bam.replace(\".bam\", \"\")\n",
    "    bam_index = bam_sorted.replace(\".bam\", \".bai\")\n",
    "    if not os.path.exists(bam):\n",
    "        !/home/cfriedline/gpfs/src/samtools-1.2/samtools view -bS $sam > $bam\n",
    "        !/home/cfriedline/gpfs/src/samtools-1.2/samtools sort -@ $cpus -f $bam $bam_sorted\n",
    "        !/home/cfriedline/gpfs/src/samtools-1.2/samtools index $bam_sorted $bam_index\n",
    "    timer.stop()\n",
    "    return bam, bam_sorted, bam_index, timer.elapsed"
   ]
  },
  {
   "cell_type": "code",
   "execution_count": 0,
   "metadata": {
    "ExecuteTime": {},
    "collapsed": false
   },
   "outputs": [],
   "source": [
    "len(fastq_files)"
   ]
  },
  {
   "cell_type": "code",
   "execution_count": 0,
   "metadata": {
    "ExecuteTime": {},
    "collapsed": false
   },
   "outputs": [],
   "source": [
    "len(highview)"
   ]
  },
  {
   "cell_type": "code",
   "execution_count": 0,
   "metadata": {
    "ExecuteTime": {},
    "collapsed": false
   },
   "outputs": [],
   "source": [
    "[x.stdout for x in bowtie_jobs]"
   ]
  },
  {
   "cell_type": "code",
   "execution_count": 0,
   "metadata": {
    "ExecuteTime": {},
    "collapsed": false
   },
   "outputs": [],
   "source": [
    "hosts = !qhost | grep godel\n",
    "hosts = [x.split()[0] for x in hosts]\n",
    "for h in hosts:\n",
    "    if h not in ['godel21', 'godel37', 'godel200']: \n",
    "        res = !ssh $h ps aux | grep cfriedline | grep bowtie2\n",
    "        if res:\n",
    "            print(h, res)"
   ]
  },
  {
   "cell_type": "code",
   "execution_count": 0,
   "metadata": {
    "ExecuteTime": {},
    "collapsed": true
   },
   "outputs": [],
   "source": [
    "bowtie_results = [x.r for x in bowtie_jobs]"
   ]
  },
  {
   "cell_type": "code",
   "execution_count": 0,
   "metadata": {
    "ExecuteTime": {},
    "collapsed": true
   },
   "outputs": [],
   "source": [
    "demult_dir = \"/gpfs_fs/home/eckertlab/gypsy_indiv/raw_demult\""
   ]
  },
  {
   "cell_type": "code",
   "execution_count": 0,
   "metadata": {
    "ExecuteTime": {},
    "collapsed": false
   },
   "outputs": [],
   "source": [
    "with open(os.path.join(demult_dir, \"bowtie_results.pkl\"), \"wb\") as o:\n",
    "    pickle.dump(bowtie_results, o, pickle.HIGHEST_PROTOCOL)"
   ]
  },
  {
   "cell_type": "code",
   "execution_count": 0,
   "metadata": {
    "collapsed": false
   },
   "outputs": [],
   "source": [
    "sam_files = !find . -type f | grep '.sam$' | grep 'masurca3'\n",
    "sam_files = [os.path.abspath(x) for x in sam_files]\n",
    "assert len(sam_files) == len(fastq_files)"
   ]
  },
  {
   "cell_type": "code",
   "execution_count": 0,
   "metadata": {
    "collapsed": false
   },
   "outputs": [],
   "source": [
    "sam_bam_jobs = []\n",
    "for f in sam_files:\n",
    "    sam_bam_jobs.append(convert_sam_to_bam(os.path.abspath(f)))"
   ]
  },
  {
   "cell_type": "code",
   "execution_count": 0,
   "metadata": {
    "collapsed": false
   },
   "outputs": [],
   "source": [
    "u.get_async_progress(sam_bam_jobs)"
   ]
  },
  {
   "cell_type": "code",
   "execution_count": 0,
   "metadata": {
    "collapsed": false
   },
   "outputs": [],
   "source": [
    "sam_bam_jobs[0].r"
   ]
  },
  {
   "cell_type": "code",
   "execution_count": 0,
   "metadata": {
    "collapsed": false
   },
   "outputs": [],
   "source": [
    "@lview.remote()\n",
    "def add_rg_info_to_bam(bam):\n",
    "    import os\n",
    "    lane_map = {\"I1\": 1, \"I3\":2}\n",
    "    cmd = \"java -jar /home/cfriedline/gpfs/src/picard-tools-1.112/AddOrReplaceReadGroups.jar\"\n",
    "    base = os.path.basename(bam).split(\".\")\n",
    "    bam_rg = bam.replace(\".bam\", \"_rg.bam\")\n",
    "    rglb = os.path.basename(os.path.dirname(os.path.dirname(bam)))\n",
    "    rgpu = base[0].split(\"_\")[-1]\n",
    "    rgsm = base[0]\n",
    "    rgid = \"FLOWCELL.LANE%d.%s\" % (lane_map[rglb],rgsm)\n",
    "    rg_string = \"RGID=%s RGLB=%s RGPL=illumina RGPU=%s RGSM=%s\" % (rgid,\n",
    "                                                                   rglb,\n",
    "                                                                   rgpu,\n",
    "                                                                   rgsm)\n",
    "    cmd = \"%s INPUT=%s OUTPUT=%s %s CREATE_INDEX=true\" % (cmd,\n",
    "                                                          bam,\n",
    "                                                          bam_rg,\n",
    "                                                          rg_string)\n",
    "#     if not os.path.exists(bam_rg):\n",
    "    !$cmd\n",
    "    return bam_rg, rg_string, cmd\n",
    "    "
   ]
  },
  {
   "cell_type": "code",
   "execution_count": 0,
   "metadata": {
    "collapsed": false
   },
   "outputs": [],
   "source": [
    "sorted_bams = !find . -type f | grep '/masurca3' | grep 'sorted.bam$'\n",
    "sorted_bams = [os.path.abspath(x) for x in sorted_bams if 'bam' in x]\n",
    "assert len(sorted_bams) == len(fastq_files)"
   ]
  },
  {
   "cell_type": "code",
   "execution_count": 0,
   "metadata": {
    "collapsed": false
   },
   "outputs": [],
   "source": [
    "add_rg = []\n",
    "for f in sorted_bams:\n",
    "    add_rg.append(add_rg_info_to_bam(f))"
   ]
  },
  {
   "cell_type": "code",
   "execution_count": 0,
   "metadata": {
    "collapsed": false
   },
   "outputs": [],
   "source": [
    "u.get_async_progress(add_rg)"
   ]
  },
  {
   "cell_type": "code",
   "execution_count": 0,
   "metadata": {
    "collapsed": false
   },
   "outputs": [],
   "source": [
    "rg_bams = !find . | grep 'rg.bam$' | grep 'masurca3'\n",
    "rg_bams = sorted([os.path.abspath(x) for x in rg_bams if 'rg.bam' in x])\n",
    "assert len(rg_bams) == len(fastq_files)"
   ]
  },
  {
   "cell_type": "code",
   "execution_count": 0,
   "metadata": {
    "collapsed": false
   },
   "outputs": [],
   "source": [
    "len(rg_bams)"
   ]
  }
 ],
 "metadata": {
  "kernelspec": {
   "display_name": "Python 3",
   "language": "python",
   "name": "python3"
  },
  "language_info": {
   "codemirror_mode": {
    "name": "ipython",
    "version": 3
   },
   "file_extension": ".py",
   "mimetype": "text/x-python",
   "name": "python",
   "nbconvert_exporter": "python",
   "pygments_lexer": "ipython3",
   "version": "3.4.4"
  }
 },
 "nbformat": 4,
 "nbformat_minor": 0
}
