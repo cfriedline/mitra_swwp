{
 "cells": [
  {
   "cell_type": "code",
   "execution_count": 0,
   "metadata": {
    "ExecuteTime": {},
    "collapsed": false
   },
   "outputs": [],
   "source": [
    "import os, sys\n",
    "from ipyparallel import Client\n",
    "import matplotlib.pyplot as plt\n",
    "%matplotlib inline\n",
    "from subprocess import Popen, PIPE\n",
    "from Bio import SeqIO\n",
    "import pandas as pd\n",
    "import pickle\n",
    "import scandir"
   ]
  },
  {
   "cell_type": "code",
   "execution_count": 0,
   "metadata": {
    "ExecuteTime": {},
    "collapsed": true
   },
   "outputs": [],
   "source": [
    "sys.path.append(\"/home/cfriedline/ipynb/include_utils\")"
   ]
  },
  {
   "cell_type": "code",
   "execution_count": 0,
   "metadata": {
    "ExecuteTime": {},
    "collapsed": false
   },
   "outputs": [],
   "source": [
    "import include_utils as u"
   ]
  },
  {
   "cell_type": "code",
   "execution_count": 0,
   "metadata": {
    "ExecuteTime": {},
    "collapsed": true
   },
   "outputs": [],
   "source": [
    "root = \"/home/cfriedline/eckertlab/Mitra/SWWP_seq\"\n",
    "\n",
    "fastq_files = open(os.path.join(root, \"fastq_files.txt\")).readlines()\n",
    "fastq_files = [x.strip() for x in fastq_files]"
   ]
  },
  {
   "cell_type": "code",
   "execution_count": 0,
   "metadata": {
    "ExecuteTime": {},
    "collapsed": false
   },
   "outputs": [],
   "source": [
    "len(fastq_files)"
   ]
  },
  {
   "cell_type": "code",
   "execution_count": 0,
   "metadata": {
    "ExecuteTime": {},
    "collapsed": false
   },
   "outputs": [],
   "source": [
    "assembly = \"/gpfs_fs/home/eckertlab/SugarPine_genome/pila.v1.0.scafSeq\"\n",
    "bwa = \"/home/cfriedline/g/src/bwa-0.7.13/bwa\""
   ]
  },
  {
   "cell_type": "markdown",
   "metadata": {},
   "source": [
    "## bwa index assembly\n",
    "`./bwa index ~/eckertlab/SugarPine_genome/pila.v1.0.scafSeq`"
   ]
  },
  {
   "cell_type": "code",
   "execution_count": 0,
   "metadata": {
    "ExecuteTime": {},
    "collapsed": false
   },
   "outputs": [],
   "source": [
    "def run_bwa(args):\n",
    "    cpus = 64\n",
    "    bwa, assembly, reads, outdir = args\n",
    "    sam = os.path.join(outdir, \"%s.sam\" % (\"all_fastq\"))\n",
    "    cmd = \"{} mem -t {} {} '<cat {}' > {}\".format(bwa, cpus, assembly, reads, sam)\n",
    "    return cmd"
   ]
  },
  {
   "cell_type": "code",
   "execution_count": 0,
   "metadata": {
    "ExecuteTime": {},
    "collapsed": true
   },
   "outputs": [],
   "source": [
    "sam_outdir = \"/gpfs_fs/home/eckertlab/Mitra/mapping_bwa/\" #mkdir"
   ]
  },
  {
   "cell_type": "code",
   "execution_count": 0,
   "metadata": {
    "ExecuteTime": {},
    "collapsed": false
   },
   "outputs": [],
   "source": [
    "cmd = run_bwa((bwa, assembly, ' '.join(fastq_files), sam_outdir))"
   ]
  },
  {
   "cell_type": "code",
   "execution_count": 0,
   "metadata": {
    "ExecuteTime": {},
    "collapsed": false
   },
   "outputs": [],
   "source": [
    "cmd"
   ]
  },
  {
   "cell_type": "code",
   "execution_count": 0,
   "metadata": {
    "ExecuteTime": {},
    "collapsed": false
   },
   "outputs": [],
   "source": [
    "with open(os.path.join(root, \"bwa.sh\"), \"w\") as o:\n",
    "    s = \"\"\"\n",
    "#!/bin/bash\n",
    "#$ -N bwa\n",
    "#$ -pe smp 64\n",
    "#$ -q godel199@godel97\n",
    "#$ -V\n",
    "#$ -cwd\n",
    "#$ -j y\n",
    "%s\"\"\" % cmd\n",
    "    o.write(\"%s\\n\" % s)"
   ]
  },
  {
   "cell_type": "markdown",
   "metadata": {},
   "source": [
    "## Run bwa command\n",
    "\n",
    "```bash\n",
    "chmod +x bwa.sh\n",
    "qsub bwa.sh\n",
    "```"
   ]
  }
 ],
 "metadata": {
  "kernelspec": {
   "display_name": "Python 3",
   "language": "python",
   "name": "python3"
  },
  "language_info": {
   "codemirror_mode": {
    "name": "ipython",
    "version": 3
   },
   "file_extension": ".py",
   "mimetype": "text/x-python",
   "name": "python",
   "nbconvert_exporter": "python",
   "pygments_lexer": "ipython3",
   "version": "3.4.4"
  }
 },
 "nbformat": 4,
 "nbformat_minor": 0
}
