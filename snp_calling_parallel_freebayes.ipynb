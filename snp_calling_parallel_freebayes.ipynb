{
 "cells": [
  {
   "cell_type": "code",
   "execution_count": 0,
   "metadata": {
    "ExecuteTime": {},
    "collapsed": false
   },
   "outputs": [],
   "source": [
    "import sys\n",
    "\n",
    "sys.path.append(\"../include_utils/\")\n",
    "\n",
    "#from IPython.parallel import Client\n",
    "import ipyparallel as ipp\n",
    "import os, time\n",
    "import include_utils as u\n",
    "import pandas as pd\n",
    "import numpy as np\n",
    "import scipy as sp\n",
    "import numbers\n",
    "import matplotlib.pyplot as plt\n",
    "import matplotlib.patches as mpatches\n",
    "import matplotlib.cm as cm\n",
    "import matplotlib.colors as mcolors\n",
    "import vcf\n",
    "from sklearn import preprocessing\n",
    "from subprocess import Popen, PIPE, STDOUT, check_output, call\n",
    "import seaborn as sns\n",
    "from IPython.display import FileLink\n",
    "import urllib.request as urllib2\n",
    "import dill\n",
    "import traceback\n",
    "from pandas import Series, DataFrame\n",
    "import gzip\n",
    "import warnings\n",
    "warnings.filterwarnings('ignore',category=pd.io.pytables.PerformanceWarning)\n",
    "%config InlineBackend.figure_format = 'retina'\n",
    "from Bio import SeqIO\n",
    "import pysam\n",
    "from collections import OrderedDict, namedtuple\n",
    "import operator\n",
    "import multiprocessing as mp\n",
    "import glob"
   ]
  },
  {
   "cell_type": "code",
   "execution_count": 0,
   "metadata": {
    "ExecuteTime": {},
    "collapsed": true
   },
   "outputs": [],
   "source": [
    "workdir = \"~/eckertlab/Mitra/mapping/split_parallel/collapsed/work\""
   ]
  },
  {
   "cell_type": "code",
   "execution_count": 0,
   "metadata": {
    "ExecuteTime": {},
    "collapsed": false
   },
   "outputs": [],
   "source": [
    "cd $workdir"
   ]
  },
  {
   "cell_type": "code",
   "execution_count": 0,
   "metadata": {
    "ExecuteTime": {},
    "collapsed": true
   },
   "outputs": [],
   "source": [
    "bam_dir = \".\"\n",
    "analysis_dir = os.path.join(bam_dir, \"samtools1.3\")\n",
    "if not os.path.exists(analysis_dir):\n",
    "    os.makedirs(analysis_dir)\n",
    "assert os.path.exists(analysis_dir)"
   ]
  },
  {
   "cell_type": "code",
   "execution_count": 0,
   "metadata": {
    "ExecuteTime": {},
    "collapsed": false
   },
   "outputs": [],
   "source": [
    "bam_files = !ls *.bam"
   ]
  },
  {
   "cell_type": "code",
   "execution_count": 0,
   "metadata": {
    "ExecuteTime": {},
    "collapsed": false
   },
   "outputs": [],
   "source": [
    "len(bam_files) == 381"
   ]
  },
  {
   "cell_type": "code",
   "execution_count": 0,
   "metadata": {
    "ExecuteTime": {},
    "collapsed": false
   },
   "outputs": [],
   "source": [
    "freebayes = \"/home/cfriedline/g/src/freebayes/bin/freebayes\"\n",
    "freebayes_parallel = \"/home/cfriedline/g/src/freebayes/scripts/freebayes-parallel\"\n",
    "fasta_generate_regions = \"/home/cfriedline/g/src/freebayes/scripts/fasta_generate_regions.py\""
   ]
  },
  {
   "cell_type": "code",
   "execution_count": 0,
   "metadata": {
    "ExecuteTime": {},
    "collapsed": false
   },
   "outputs": [],
   "source": [
    "assembly = \"/gpfs_fs/home/eckertlab/SugarPine_genome/pila.v1.0.scafSeq_mapped.fasta\""
   ]
  },
  {
   "cell_type": "code",
   "execution_count": 0,
   "metadata": {
    "ExecuteTime": {},
    "collapsed": false
   },
   "outputs": [],
   "source": [
    "!$samtools faidx {assembly}"
   ]
  },
  {
   "cell_type": "code",
   "execution_count": 0,
   "metadata": {
    "ExecuteTime": {},
    "collapsed": false
   },
   "outputs": [],
   "source": [
    "def create_split_beds(nodes, bed):\n",
    "    lines = 0\n",
    "    for line in open(bed):\n",
    "        lines += 1\n",
    "    print(lines, lines//nodes)\n",
    "    per_bed = lines//nodes\n",
    "    cmd = \"split -a 3 -d -l %d %s contig.bed.\" % (per_bed, bed)\n",
    "    call(cmd.split())\n",
    "create_split_beds(150, \"../contigs.bed\")"
   ]
  },
  {
   "cell_type": "code",
   "execution_count": 0,
   "metadata": {
    "ExecuteTime": {},
    "collapsed": true
   },
   "outputs": [],
   "source": [
    "beds = !ls contig.bed.*"
   ]
  },
  {
   "cell_type": "code",
   "execution_count": 0,
   "metadata": {
    "ExecuteTime": {},
    "collapsed": false
   },
   "outputs": [],
   "source": [
    "len(beds)"
   ]
  },
  {
   "cell_type": "code",
   "execution_count": 0,
   "metadata": {
    "ExecuteTime": {},
    "collapsed": false
   },
   "outputs": [],
   "source": [
    "rc = u.get_client(profile=\"sge\")\n",
    "dv, lv = u.get_views(rc)\n",
    "len(dv)"
   ]
  },
  {
   "cell_type": "code",
   "execution_count": 0,
   "metadata": {
    "ExecuteTime": {},
    "collapsed": false
   },
   "outputs": [],
   "source": [
    "with dv.sync_imports():\n",
    "    from subprocess import Popen, PIPE, STDOUT, check_output, call\n",
    "    import os, sys, socket, glob"
   ]
  },
  {
   "cell_type": "code",
   "execution_count": 0,
   "metadata": {
    "ExecuteTime": {},
    "collapsed": true
   },
   "outputs": [],
   "source": [
    "%px cd $workdir"
   ]
  },
  {
   "cell_type": "code",
   "execution_count": 0,
   "metadata": {
    "ExecuteTime": {},
    "collapsed": false
   },
   "outputs": [],
   "source": [
    "def create_parallel_bams(args):\n",
    "    os.chdir(\"/home/cfriedline/eckertlab/Mitra/mapping/split_parallel/collapsed/work/\")\n",
    "    samtools, bam_file, bed_file = args\n",
    "    num = bed_file.split(\".\")[-1]\n",
    "    out = \"%s.%s\" % (bam_file, num)\n",
    "    if not os.path.exists(out):\n",
    "        cmd = \"%s view -L %s -b %s -o %s\" % (samtools, bed_file, bam_file, out)\n",
    "        call(cmd.split())\n",
    "    return out"
   ]
  },
  {
   "cell_type": "code",
   "execution_count": 0,
   "metadata": {
    "ExecuteTime": {},
    "collapsed": true
   },
   "outputs": [],
   "source": [
    "dv['create_parallel_bams'] = create_parallel_bams"
   ]
  },
  {
   "cell_type": "code",
   "execution_count": 0,
   "metadata": {
    "ExecuteTime": {},
    "collapsed": false
   },
   "outputs": [],
   "source": [
    "jobs = []\n",
    "args = []\n",
    "for bam in bam_files:\n",
    "    for bed in beds:\n",
    "        a = [samtools, bam, bed]\n",
    "        args.append(a)"
   ]
  },
  {
   "cell_type": "code",
   "execution_count": 0,
   "metadata": {
    "ExecuteTime": {},
    "collapsed": false
   },
   "outputs": [],
   "source": [
    "len(bam_files)*len(beds)"
   ]
  },
  {
   "cell_type": "code",
   "execution_count": 0,
   "metadata": {
    "ExecuteTime": {},
    "collapsed": false
   },
   "outputs": [],
   "source": [
    "jobs = dv.map_async(create_parallel_bams, args)"
   ]
  },
  {
   "cell_type": "code",
   "execution_count": 0,
   "metadata": {
    "ExecuteTime": {},
    "collapsed": false
   },
   "outputs": [],
   "source": [
    "jobs.progress"
   ]
  },
  {
   "cell_type": "code",
   "execution_count": 0,
   "metadata": {
    "ExecuteTime": {},
    "collapsed": false
   },
   "outputs": [],
   "source": [
    "pwd"
   ]
  },
  {
   "cell_type": "code",
   "execution_count": 0,
   "metadata": {
    "ExecuteTime": {},
    "collapsed": true
   },
   "outputs": [],
   "source": [
    "def check_bams(args):\n",
    "    samtools, bam = args\n",
    "    os.chdir(\"/home/cfriedline/eckertlab/Mitra/mapping/split_parallel/collapsed/work\")\n",
    "    cmd = \"%s quickcheck %s\" % (samtools, bam)\n",
    "    return call(cmd.split())"
   ]
  },
  {
   "cell_type": "code",
   "execution_count": 0,
   "metadata": {
    "ExecuteTime": {},
    "collapsed": true
   },
   "outputs": [],
   "source": [
    "dv['check_bams'] = check_bams"
   ]
  },
  {
   "cell_type": "code",
   "execution_count": 0,
   "metadata": {
    "ExecuteTime": {},
    "collapsed": true
   },
   "outputs": [],
   "source": [
    "par_bams = !ls *.bam.* | grep -v '.bai$'"
   ]
  },
  {
   "cell_type": "code",
   "execution_count": 0,
   "metadata": {
    "ExecuteTime": {},
    "collapsed": false
   },
   "outputs": [],
   "source": [
    "len(par_bams)"
   ]
  },
  {
   "cell_type": "code",
   "execution_count": 0,
   "metadata": {
    "ExecuteTime": {},
    "collapsed": true
   },
   "outputs": [],
   "source": [
    "args = []\n",
    "for b in par_bams:\n",
    "    args.append((samtools, b))"
   ]
  },
  {
   "cell_type": "code",
   "execution_count": 0,
   "metadata": {
    "ExecuteTime": {},
    "collapsed": true
   },
   "outputs": [],
   "source": [
    "jobs = lv.map_async(check_bams, args)"
   ]
  },
  {
   "cell_type": "code",
   "execution_count": 0,
   "metadata": {
    "ExecuteTime": {},
    "collapsed": false
   },
   "outputs": [],
   "source": [
    "for j in jobs:\n",
    "    if not j == 0:\n",
    "        print(j)"
   ]
  },
  {
   "cell_type": "code",
   "execution_count": 0,
   "metadata": {
    "ExecuteTime": {},
    "collapsed": false
   },
   "outputs": [],
   "source": [
    "job_map = {}\n",
    "for b in par_bams:\n",
    "    num = b.split(\".\")[-1]\n",
    "    if not num in job_map:\n",
    "        job_map[num] = []\n",
    "    job_map[num].append(b)"
   ]
  },
  {
   "cell_type": "code",
   "execution_count": 0,
   "metadata": {
    "ExecuteTime": {},
    "collapsed": false
   },
   "outputs": [],
   "source": [
    "for num in job_map:\n",
    "    job_map[num] = sorted(job_map[num])"
   ]
  },
  {
   "cell_type": "code",
   "execution_count": 0,
   "metadata": {
    "ExecuteTime": {},
    "collapsed": false
   },
   "outputs": [],
   "source": [
    "## split assembly for freebayes mapping\n",
    "\"pyfasta split -n 150 {}\".format(assembly)"
   ]
  },
  {
   "cell_type": "code",
   "execution_count": 0,
   "metadata": {
    "ExecuteTime": {},
    "collapsed": false
   },
   "outputs": [],
   "source": [
    "snp_args = []\n",
    "for num in job_map:\n",
    "    bam_files = job_map[num]\n",
    "    a = (freebayes_parallel,\n",
    "         fasta_generate_regions,\n",
    "         assembly, \n",
    "         bam_files,\n",
    "        \"freebayes\",\n",
    "        num)\n",
    "    snp_args.append(a)"
   ]
  },
  {
   "cell_type": "code",
   "execution_count": 0,
   "metadata": {
    "ExecuteTime": {},
    "collapsed": false
   },
   "outputs": [],
   "source": [
    "def call_snps(args):\n",
    "    freebayes, fasta_generate_regions, assembly, bam_files, out_dir, num = args\n",
    "    #freebayes-parallel <(fasta_generate_regions.py ref.fa.fai 100000) 36 -f ref.fa aln.bam >out.vcf\n",
    "    cmd = \"{} <({} {}.fai 200000) 3 --use-best-n-alleles 4 -f {} {} > {}.{}\".format(freebayes,\n",
    "                                                              fasta_generate_regions,\n",
    "                                                              assembly,\n",
    "                                                              assembly,\n",
    "                                                              \" \".join(bam_files),\n",
    "                                                              os.path.join(out_dir, \"freebayes.vcf\"),\n",
    "                                                              num)\n",
    "    return cmd"
   ]
  },
  {
   "cell_type": "code",
   "execution_count": 0,
   "metadata": {
    "ExecuteTime": {},
    "collapsed": false,
    "scrolled": false
   },
   "outputs": [],
   "source": [
    "with open(\"freebayes_jobs.sh\", \"w\") as j:\n",
    "    j.write(\"#!/bin/bash\\n\")\n",
    "    for i, a in enumerate(snp_args):\n",
    "        scr = \"freebayes_run%d.sh\" % i\n",
    "        j.write(\"qsub %s\\n\" % scr)\n",
    "        with open(scr, \"w\") as o:\n",
    "            \n",
    "            header = \"\"\"#!/bin/bash\n",
    "#$ -N fb%d\n",
    "#$ -cwd\n",
    "#$ -V\n",
    "#$ -o freebayes/fb%d.out\n",
    "#$ -e freebayes/fb%d.err\n",
    "#$ -q all.q\"\"\" % (i, i, i)\n",
    "            \n",
    "            o.write(\"%s\\n\" % header)\n",
    "            o.write(\"%s\\n\" % call_snps(a))"
   ]
  },
  {
   "cell_type": "code",
   "execution_count": 0,
   "metadata": {
    "ExecuteTime": {},
    "collapsed": false
   },
   "outputs": [],
   "source": [
    "args_all = (freebayes_parallel,\n",
    "         fasta_generate_regions,\n",
    "         assembly, \n",
    "         bam_files,\n",
    "        \"freebayes\",\"all\")\n",
    "\n",
    "with open(\"freebayes_all.sh\", \"w\") as j:\n",
    "    i = 0\n",
    "    header = \"\"\"#!/bin/bash\n",
    "#$ -N fb%d\n",
    "#$ -cwd\n",
    "#$ -V\n",
    "#$ -o freebayes/fb%d.out\n",
    "#$ -e freebayes/fb%d.err\n",
    "#$ -q all.q\"\"\" % (i, i, i)\n",
    "            \n",
    "    j.write(\"%s\\n\" % header)\n",
    "    j.write(\"%s\\n\" % call_snps(args_all))"
   ]
  },
  {
   "cell_type": "markdown",
   "metadata": {},
   "source": [
    "## Run on SGE\n",
    "```bash\n",
    "cd /gpfs_fs/home/eckertlab/Mitra/mapping/split_parallel/collapsed/work\n",
    "mkdir freebayes\n",
    "chmod +x freebayes*.sh\n",
    "./freebayes_jobs.sh\n",
    "```"
   ]
  },
  {
   "cell_type": "code",
   "execution_count": 0,
   "metadata": {
    "ExecuteTime": {},
    "collapsed": false
   },
   "outputs": [],
   "source": [
    "cd samtools1.3/"
   ]
  },
  {
   "cell_type": "code",
   "execution_count": 0,
   "metadata": {
    "ExecuteTime": {},
    "collapsed": true
   },
   "outputs": [],
   "source": [
    "vcfs = !ls samtools_1.3.vcf.gz.*"
   ]
  },
  {
   "cell_type": "code",
   "execution_count": 0,
   "metadata": {
    "ExecuteTime": {},
    "collapsed": false
   },
   "outputs": [],
   "source": [
    "vcfs"
   ]
  },
  {
   "cell_type": "code",
   "execution_count": 0,
   "metadata": {
    "ExecuteTime": {},
    "collapsed": true
   },
   "outputs": [],
   "source": [
    "vcf_concat = \"/home/cfriedline/g/src/vcftools-0.1.14/src/perl/vcf-concat\"\n",
    "tabix = \"/home/cfriedline/g/src/htslib-1.3/tabix\""
   ]
  },
  {
   "cell_type": "markdown",
   "metadata": {},
   "source": [
    "### index parallel vcf files\n",
    "\n",
    "```\n",
    "ls samtools_1.3.vcf.* | parallel tabix\n",
    "```"
   ]
  },
  {
   "cell_type": "code",
   "execution_count": 0,
   "metadata": {
    "ExecuteTime": {},
    "collapsed": false
   },
   "outputs": [],
   "source": [
    "with open(\"concat.sh\", \"w\") as o:\n",
    "    o.write(\"%s -s 50 %s > concat.vcf\\n\" % (vcf_concat, \" \".join(vcfs)))"
   ]
  },
  {
   "cell_type": "markdown",
   "metadata": {},
   "source": [
    "### concatenate vcf files\n",
    "\n",
    "```\n",
    "chmod +x concat.sh\n",
    "./concat.sh\n",
    "```"
   ]
  },
  {
   "cell_type": "code",
   "execution_count": 0,
   "metadata": {
    "ExecuteTime": {},
    "collapsed": false
   },
   "outputs": [],
   "source": [
    "!$vcf_concat --help"
   ]
  },
  {
   "cell_type": "code",
   "execution_count": 0,
   "metadata": {
    "collapsed": true
   },
   "outputs": [],
   "source": []
  }
 ],
 "metadata": {
  "kernelspec": {
   "display_name": "Python 3",
   "language": "python",
   "name": "python3"
  },
  "language_info": {
   "codemirror_mode": {
    "name": "ipython",
    "version": 3
   },
   "file_extension": ".py",
   "mimetype": "text/x-python",
   "name": "python",
   "nbconvert_exporter": "python",
   "pygments_lexer": "ipython3",
   "version": "3.4.4"
  }
 },
 "nbformat": 4,
 "nbformat_minor": 0
}
