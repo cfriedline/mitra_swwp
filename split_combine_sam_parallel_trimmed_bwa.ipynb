{
 "cells": [
  {
   "cell_type": "code",
   "execution_count": 0,
   "metadata": {
    "ExecuteTime": {},
    "collapsed": false
   },
   "outputs": [],
   "source": [
    "import os, sys\n",
    "from ipyparallel import Client\n",
    "import matplotlib.pyplot as plt\n",
    "%matplotlib inline\n",
    "from subprocess import Popen, PIPE\n",
    "from Bio import SeqIO\n",
    "import pandas as pd\n",
    "import pickle\n",
    "import scandir\n",
    "import sqlite3\n",
    "from sqlalchemy import create_engine, MetaData, Table, Column, VARCHAR\n",
    "from sqlalchemy.ext.declarative import declarative_base\n",
    "from sqlalchemy.orm import sessionmaker\n",
    "from ipyparallel import Client\n",
    "import filelock\n",
    "from pymongo import MongoClient\n",
    "from collections import Counter\n",
    "import shutil\n",
    "import numpy as np\n",
    "import stopwatch\n",
    "import multiprocessing\n",
    "import pysam\n",
    "from itertools import zip_longest"
   ]
  },
  {
   "cell_type": "code",
   "execution_count": 0,
   "metadata": {
    "ExecuteTime": {},
    "collapsed": true
   },
   "outputs": [],
   "source": [
    "host = \"godel96\"\n",
    "port = 27018\n",
    "mongo = MongoClient(host, port)\n",
    "db = mongo.fastq_index\n",
    "reads = db.reads"
   ]
  },
  {
   "cell_type": "code",
   "execution_count": 0,
   "metadata": {
    "ExecuteTime": {},
    "collapsed": true
   },
   "outputs": [],
   "source": [
    "filedir = \"/gpfs_fs/home/eckertlab/Mitra/mapping_bwa/trimmed/mapped/split_parallel\""
   ]
  },
  {
   "cell_type": "code",
   "execution_count": 0,
   "metadata": {
    "ExecuteTime": {},
    "collapsed": true
   },
   "outputs": [],
   "source": [
    "if not os.path.exists(filedir):\n",
    "    os.mkdir(filedir)"
   ]
  },
  {
   "cell_type": "code",
   "execution_count": 0,
   "metadata": {
    "ExecuteTime": {},
    "collapsed": false
   },
   "outputs": [],
   "source": [
    "cd $filedir"
   ]
  },
  {
   "cell_type": "code",
   "execution_count": 0,
   "metadata": {
    "ExecuteTime": {},
    "collapsed": true
   },
   "outputs": [],
   "source": [
    "sam = \"/gpfs_fs/home/eckertlab/Mitra/mapping_bwa/trimmed/mapped/all_fastq.sam\""
   ]
  },
  {
   "cell_type": "code",
   "execution_count": 0,
   "metadata": {
    "ExecuteTime": {},
    "collapsed": true
   },
   "outputs": [],
   "source": [
    "samtools = \"/home/cfriedline/bin/samtools\""
   ]
  },
  {
   "cell_type": "code",
   "execution_count": 0,
   "metadata": {
    "ExecuteTime": {},
    "collapsed": true
   },
   "outputs": [],
   "source": [
    "header = !$samtools view -H $sam"
   ]
  },
  {
   "cell_type": "code",
   "execution_count": 0,
   "metadata": {
    "ExecuteTime": {},
    "collapsed": false
   },
   "outputs": [],
   "source": [
    "with open(\"header.sam\", \"w\") as o:\n",
    "    for h in header:\n",
    "        o.write(h + \"\\n\")"
   ]
  },
  {
   "cell_type": "code",
   "execution_count": 0,
   "metadata": {
    "ExecuteTime": {},
    "collapsed": false
   },
   "outputs": [],
   "source": [
    "rc = Client(profile=\"sge\")\n",
    "dv = rc[:]\n",
    "lv = rc.load_balanced_view()\n",
    "len(dv)"
   ]
  },
  {
   "cell_type": "code",
   "execution_count": 0,
   "metadata": {
    "ExecuteTime": {},
    "collapsed": false
   },
   "outputs": [],
   "source": [
    "dv.push({'host':host, 'port':port}).r;"
   ]
  },
  {
   "cell_type": "code",
   "execution_count": 0,
   "metadata": {
    "ExecuteTime": {},
    "collapsed": false
   },
   "outputs": [],
   "source": [
    "with dv.sync_imports():\n",
    "    import os\n",
    "    import sys\n",
    "    import shutil\n",
    "    import socket\n",
    "    from collections import Counter"
   ]
  },
  {
   "cell_type": "code",
   "execution_count": 0,
   "metadata": {
    "ExecuteTime": {},
    "collapsed": false
   },
   "outputs": [],
   "source": [
    "%px from pymongo import MongoClient\n",
    "%px mongo = MongoClient(host, port)\n",
    "%px db = mongo.fastq_index\n",
    "%px cd $filedir\n",
    "%px reads = db.reads"
   ]
  },
  {
   "cell_type": "code",
   "execution_count": 0,
   "metadata": {
    "ExecuteTime": {},
    "collapsed": true
   },
   "outputs": [],
   "source": [
    "def get_writer(sample):\n",
    "    f = \"%s_%s_%d.sam\" % (sample, socket.gethostname(), os.getpid())\n",
    "    if not sample in writers:\n",
    "        writers[sample] = open(f, \"w\")\n",
    "    return writers[sample]\n",
    "\n",
    "def get_sample(read):\n",
    "    return reads.find_one({\"read\": read})['sample']"
   ]
  },
  {
   "cell_type": "code",
   "execution_count": 0,
   "metadata": {
    "ExecuteTime": {},
    "collapsed": true
   },
   "outputs": [],
   "source": [
    "def close_writers():\n",
    "    for k, v in writers.items():\n",
    "        v.close()"
   ]
  },
  {
   "cell_type": "code",
   "execution_count": 0,
   "metadata": {
    "ExecuteTime": {},
    "collapsed": false
   },
   "outputs": [],
   "source": [
    "dv.push({'get_writer': get_writer, \n",
    "         'get_sample':get_sample,\n",
    "         'close_writers': close_writers,\n",
    "         'writers':{}}).r;"
   ]
  },
  {
   "cell_type": "markdown",
   "metadata": {},
   "source": [
    "## split alignments into 5M line files\n",
    "\n",
    "```\n",
    "cat ../all_fastq.sam | grep -v \"^@\" | split -l 5000000 -d -a 3\n",
    "```"
   ]
  },
  {
   "cell_type": "code",
   "execution_count": 0,
   "metadata": {
    "ExecuteTime": {},
    "collapsed": true
   },
   "outputs": [],
   "source": [
    "split_sam_files = !ls x*"
   ]
  },
  {
   "cell_type": "code",
   "execution_count": 0,
   "metadata": {
    "ExecuteTime": {},
    "collapsed": false
   },
   "outputs": [],
   "source": [
    "len(split_sam_files)"
   ]
  },
  {
   "cell_type": "code",
   "execution_count": 0,
   "metadata": {
    "ExecuteTime": {},
    "collapsed": false
   },
   "outputs": [],
   "source": [
    "@lv.remote()\n",
    "def split_sam(f):\n",
    "    counts = Counter()\n",
    "    read_count = 0\n",
    "    for line in open(f):\n",
    "        read = line.split()[0]        \n",
    "        sample = get_sample(read)\n",
    "        writer = get_writer(sample)\n",
    "        writer.write(line)\n",
    "        read_count += 1\n",
    "        counts[sample] += 1\n",
    "        if read_count % 100000 == 0:\n",
    "            print(\"wrote %d\" % read_count)\n",
    "    return counts, read_count"
   ]
  },
  {
   "cell_type": "code",
   "execution_count": 0,
   "metadata": {
    "ExecuteTime": {},
    "collapsed": false
   },
   "outputs": [],
   "source": [
    "jobs = []\n",
    "for s in split_sam_files:\n",
    "    jobs.append(split_sam(s))"
   ]
  },
  {
   "cell_type": "code",
   "execution_count": 0,
   "metadata": {
    "ExecuteTime": {},
    "collapsed": false,
    "scrolled": true
   },
   "outputs": [],
   "source": [
    "[x.stdout.split(\"\\n\")[-2] for x in jobs], len(split_sam_files)"
   ]
  },
  {
   "cell_type": "code",
   "execution_count": 0,
   "metadata": {
    "ExecuteTime": {},
    "collapsed": false
   },
   "outputs": [],
   "source": [
    "np.sum([x.ready() for x in jobs]), len(split_sam_files)"
   ]
  },
  {
   "cell_type": "code",
   "execution_count": 0,
   "metadata": {
    "ExecuteTime": {},
    "collapsed": false,
    "scrolled": true
   },
   "outputs": [],
   "source": [
    "dv.apply_async(close_writers).r"
   ]
  },
  {
   "cell_type": "code",
   "execution_count": 0,
   "metadata": {
    "ExecuteTime": {},
    "collapsed": false
   },
   "outputs": [],
   "source": [
    "pwd"
   ]
  },
  {
   "cell_type": "code",
   "execution_count": 0,
   "metadata": {
    "ExecuteTime": {},
    "collapsed": true
   },
   "outputs": [],
   "source": [
    "sample_sams = !ls *.sam | grep godel"
   ]
  },
  {
   "cell_type": "code",
   "execution_count": 0,
   "metadata": {
    "ExecuteTime": {},
    "collapsed": false
   },
   "outputs": [],
   "source": [
    "len(sample_sams)"
   ]
  },
  {
   "cell_type": "code",
   "execution_count": 0,
   "metadata": {
    "ExecuteTime": {},
    "collapsed": true
   },
   "outputs": [],
   "source": [
    "def get_name(filename):\n",
    "    s1 = filename.split(\".fastq\")\n",
    "    name = None\n",
    "    if len(s1) == 2:\n",
    "        name = s1[0].split(\"_\")[0]\n",
    "    elif len(s1) == 3:\n",
    "        name = s1[1].split(\"_\")[2]\n",
    "    else:\n",
    "        raise Exception\n",
    "    return name"
   ]
  },
  {
   "cell_type": "code",
   "execution_count": 0,
   "metadata": {
    "collapsed": true
   },
   "outputs": [],
   "source": []
  },
  {
   "cell_type": "code",
   "execution_count": 0,
   "metadata": {
    "ExecuteTime": {},
    "collapsed": false
   },
   "outputs": [],
   "source": [
    "sam_dict = {}\n",
    "for s in sample_sams:\n",
    "    name = get_name(s)\n",
    "    if not name in sam_dict:\n",
    "        sam_dict[name] = []\n",
    "    sam_dict[name].append(s)"
   ]
  },
  {
   "cell_type": "code",
   "execution_count": 0,
   "metadata": {
    "ExecuteTime": {},
    "collapsed": false
   },
   "outputs": [],
   "source": [
    "dv['sam_dict'] = sam_dict"
   ]
  },
  {
   "cell_type": "code",
   "execution_count": 0,
   "metadata": {
    "ExecuteTime": {},
    "collapsed": false
   },
   "outputs": [],
   "source": [
    "pwd"
   ]
  },
  {
   "cell_type": "code",
   "execution_count": 0,
   "metadata": {
    "ExecuteTime": {},
    "collapsed": false
   },
   "outputs": [],
   "source": [
    "!mkdir collapsed"
   ]
  },
  {
   "cell_type": "code",
   "execution_count": 0,
   "metadata": {
    "ExecuteTime": {},
    "collapsed": false
   },
   "outputs": [],
   "source": [
    "%px cd collapsed"
   ]
  },
  {
   "cell_type": "code",
   "execution_count": 0,
   "metadata": {
    "ExecuteTime": {},
    "collapsed": false
   },
   "outputs": [],
   "source": [
    "cd collapsed"
   ]
  },
  {
   "cell_type": "code",
   "execution_count": 0,
   "metadata": {
    "ExecuteTime": {},
    "collapsed": false
   },
   "outputs": [],
   "source": [
    "@lv.remote()\n",
    "def collapse(key):\n",
    "    s = \"%s.sam\" % key\n",
    "    shutil.copy(\"../header.sam\", s)\n",
    "    with open(s, \"a\") as o:\n",
    "        for f in sam_dict[key]:\n",
    "            for line in open(\"../%s\" % f):\n",
    "                o.write(line)"
   ]
  },
  {
   "cell_type": "code",
   "execution_count": 0,
   "metadata": {
    "ExecuteTime": {},
    "collapsed": false
   },
   "outputs": [],
   "source": [
    "jobs = []\n",
    "for k in sam_dict:\n",
    "    jobs.append(collapse(k))"
   ]
  },
  {
   "cell_type": "code",
   "execution_count": 0,
   "metadata": {
    "ExecuteTime": {},
    "collapsed": false
   },
   "outputs": [],
   "source": [
    "np.sum([x.ready() for x in jobs])"
   ]
  },
  {
   "cell_type": "code",
   "execution_count": 0,
   "metadata": {
    "ExecuteTime": {},
    "collapsed": false
   },
   "outputs": [],
   "source": [
    "@lv.remote()\n",
    "def convert_sam_to_bam(sam):\n",
    "    import stopwatch, multiprocessing, os\n",
    "    timer = stopwatch.Timer()\n",
    "    cpus = multiprocessing.cpu_count()\n",
    "    bam = sam.replace(\".sam\", \".bam\")\n",
    "    bam_sorted = \"%s_sorted.bam\" % bam.replace(\".bam\", \"\")\n",
    "    bam_index = bam_sorted.replace(\".bam\", \".bai\")\n",
    "    if not os.path.exists(bam):\n",
    "        !/home/cfriedline/bin/samtools view -bS $sam > $bam\n",
    "        !/home/cfriedline/bin/samtools sort -@ $cpus $bam -o $bam_sorted\n",
    "    timer.stop()\n",
    "    return bam, bam_sorted, bam_index, timer.elapsed"
   ]
  },
  {
   "cell_type": "code",
   "execution_count": 0,
   "metadata": {
    "ExecuteTime": {},
    "collapsed": false
   },
   "outputs": [],
   "source": [
    "combined_sams = !ls *.sam"
   ]
  },
  {
   "cell_type": "code",
   "execution_count": 0,
   "metadata": {
    "ExecuteTime": {},
    "collapsed": true
   },
   "outputs": [],
   "source": [
    "def get_flowcell(name, sample):\n",
    "    n = name.split(\":\")\n",
    "    return \"%s.%s.%s\" % (n[2], n[3], sample)"
   ]
  },
  {
   "cell_type": "code",
   "execution_count": 0,
   "metadata": {
    "ExecuteTime": {},
    "collapsed": false
   },
   "outputs": [],
   "source": [
    "sample_rgids = {}\n",
    "for c in combined_sams:\n",
    "    line = !tail -n1 $c\n",
    "    name = line[0].split(\"\\t\")[0]\n",
    "    sample = c.split(\".\")[0]\n",
    "    sample_rgids[sample] = get_flowcell(name, sample)"
   ]
  },
  {
   "cell_type": "code",
   "execution_count": 0,
   "metadata": {
    "ExecuteTime": {},
    "collapsed": false
   },
   "outputs": [],
   "source": [
    "dv['sample_rgids'] = sample_rgids"
   ]
  },
  {
   "cell_type": "code",
   "execution_count": 0,
   "metadata": {
    "ExecuteTime": {},
    "collapsed": false
   },
   "outputs": [],
   "source": [
    "def add_rg_to_sam(sam):\n",
    "    import os\n",
    "    sam_rg = sam.replace(\".sam\", \"_rg.sam\")\n",
    "    sample = sam.split(\".\")[0]\n",
    "    rg_z = sample_rgids[sample]\n",
    "    rgid = \"ID:%s\" % rg_z\n",
    "    rglb = \"LB:%s\" % \".\".join(rg_z.split(\".\")[0:-1])\n",
    "    rgpu = \"PU:%s\" % \".\".join(rg_z.split(\".\")[0:-1])\n",
    "    rgsm = \"SM:%s\" % sample\n",
    "    rg_string = \"\\t\".join([\"@RG\",\n",
    "                          rgid,\n",
    "                          rglb,\n",
    "                          rgsm,\n",
    "                          rgpu])\n",
    "    \n",
    "    add_rg_z = False\n",
    "    with open(sam_rg, \"w\") as o:\n",
    "        for line in open(sam):\n",
    "            if not line.startswith(\"@\"):\n",
    "                if not add_rg_z:\n",
    "                    o.write(rg_string + \"\\n\")\n",
    "                    add_rg_z = True\n",
    "                else:\n",
    "                    o.write(line.strip() + \"\\t\" + \"RG:Z:%s\" % rg_z + \"\\n\" )\n",
    "            else:\n",
    "                o.write(line)\n",
    "    return sam_rg, rg_string"
   ]
  },
  {
   "cell_type": "code",
   "execution_count": 0,
   "metadata": {
    "ExecuteTime": {},
    "collapsed": true
   },
   "outputs": [],
   "source": [
    "dv['add_rg_to_sam'] = add_rg_to_sam"
   ]
  },
  {
   "cell_type": "code",
   "execution_count": 0,
   "metadata": {
    "ExecuteTime": {},
    "collapsed": true
   },
   "outputs": [],
   "source": [
    "jobs = []\n",
    "for c in combined_sams:\n",
    "    jobs.append(lv.apply_async(add_rg_to_sam, c))"
   ]
  },
  {
   "cell_type": "code",
   "execution_count": 0,
   "metadata": {
    "ExecuteTime": {},
    "collapsed": false
   },
   "outputs": [],
   "source": [
    "np.sum([x.ready() for x in jobs])"
   ]
  },
  {
   "cell_type": "code",
   "execution_count": 0,
   "metadata": {
    "ExecuteTime": {},
    "collapsed": true
   },
   "outputs": [],
   "source": [
    "rg_sams = !ls *rg.sam"
   ]
  },
  {
   "cell_type": "code",
   "execution_count": 0,
   "metadata": {
    "ExecuteTime": {},
    "collapsed": false
   },
   "outputs": [],
   "source": [
    "len(rg_sams)"
   ]
  },
  {
   "cell_type": "code",
   "execution_count": 0,
   "metadata": {
    "ExecuteTime": {},
    "collapsed": false
   },
   "outputs": [],
   "source": [
    "jobs = []\n",
    "for s in rg_sams:\n",
    "    jobs.append(convert_sam_to_bam(s))"
   ]
  },
  {
   "cell_type": "code",
   "execution_count": 0,
   "metadata": {
    "ExecuteTime": {},
    "collapsed": false
   },
   "outputs": [],
   "source": [
    "np.sum([x.ready() for x in jobs])"
   ]
  },
  {
   "cell_type": "code",
   "execution_count": 0,
   "metadata": {
    "ExecuteTime": {},
    "collapsed": false
   },
   "outputs": [],
   "source": [
    "bams = !ls *rg_sorted.bam"
   ]
  },
  {
   "cell_type": "code",
   "execution_count": 0,
   "metadata": {
    "ExecuteTime": {},
    "collapsed": false
   },
   "outputs": [],
   "source": [
    "len(bams)"
   ]
  },
  {
   "cell_type": "code",
   "execution_count": 0,
   "metadata": {
    "ExecuteTime": {},
    "collapsed": true
   },
   "outputs": [],
   "source": [
    "def index_bam(bam):\n",
    "    cmd = \"%s index %s\" % (samtools, bam)\n",
    "    !$cmd\n",
    "    return bam"
   ]
  },
  {
   "cell_type": "code",
   "execution_count": 0,
   "metadata": {
    "ExecuteTime": {},
    "collapsed": false
   },
   "outputs": [],
   "source": [
    "def get_mapped(bam):\n",
    "    import os\n",
    "    out = \"%s_mapped.bam\" % bam.split(\".\")[0]\n",
    "    if not os.path.exists(out):                                       \n",
    "        cmd = \"%s view -b -F 4 %s > %s\" % (samtools, bam, out)\n",
    "        res = !$cmd\n",
    "    index_bam(out)\n",
    "    return bam"
   ]
  },
  {
   "cell_type": "code",
   "execution_count": 0,
   "metadata": {
    "ExecuteTime": {},
    "collapsed": false
   },
   "outputs": [],
   "source": [
    "dv['samtools'] = samtools\n",
    "dv['index_bam'] = index_bam\n",
    "dv['get_mapped'] = get_mapped"
   ]
  },
  {
   "cell_type": "code",
   "execution_count": 0,
   "metadata": {
    "ExecuteTime": {},
    "collapsed": true
   },
   "outputs": [],
   "source": [
    "%px cd /gpfs_fs/home/eckertlab/Mitra/mapping/split_parallel/collapsed"
   ]
  },
  {
   "cell_type": "code",
   "execution_count": 0,
   "metadata": {
    "ExecuteTime": {},
    "collapsed": false
   },
   "outputs": [],
   "source": [
    "get_mapped(bams[0]).r"
   ]
  },
  {
   "cell_type": "code",
   "execution_count": 0,
   "metadata": {
    "ExecuteTime": {},
    "collapsed": false
   },
   "outputs": [],
   "source": [
    "bams[0]"
   ]
  },
  {
   "cell_type": "code",
   "execution_count": 0,
   "metadata": {
    "ExecuteTime": {},
    "collapsed": false
   },
   "outputs": [],
   "source": [
    "jobs = []\n",
    "for b in bams:\n",
    "    jobs.append(get_mapped(b))"
   ]
  },
  {
   "cell_type": "code",
   "execution_count": 0,
   "metadata": {
    "ExecuteTime": {},
    "collapsed": false
   },
   "outputs": [],
   "source": [
    "np.sum([x.ready() for x in jobs])"
   ]
  },
  {
   "cell_type": "code",
   "execution_count": 0,
   "metadata": {
    "ExecuteTime": {},
    "collapsed": true
   },
   "outputs": [],
   "source": [
    "mapped = !ls *mapped.bam"
   ]
  },
  {
   "cell_type": "code",
   "execution_count": 0,
   "metadata": {
    "ExecuteTime": {},
    "collapsed": false
   },
   "outputs": [],
   "source": [
    "len(mapped)"
   ]
  },
  {
   "cell_type": "code",
   "execution_count": 0,
   "metadata": {
    "ExecuteTime": {},
    "collapsed": true
   },
   "outputs": [],
   "source": [
    "with open(\"bams.txt\", \"w\") as o:\n",
    "    for b in mapped:\n",
    "        o.write(\"%s\\n\" % b)"
   ]
  },
  {
   "cell_type": "code",
   "execution_count": 0,
   "metadata": {
    "collapsed": true
   },
   "outputs": [],
   "source": [
    "def add_rg_info_to_bam(bam):\n",
    "    import os\n",
    "    lane_map = {\"I1\": 1, \"I3\":2}\n",
    "    cmd = \"java -jar /home/cfriedline/gpfs/src/picard-tools-1.112/AddOrReplaceReadGroups.jar\"\n",
    "    base = os.path.basename(bam).split(\".\")\n",
    "    bam_rg = bam.replace(\".bam\", \"_rg.bam\")\n",
    "    rglb = os.path.basename(os.path.dirname(os.path.dirname(bam)))\n",
    "    rgpu = base[0].split(\"_\")[-1]\n",
    "    rgsm = base[0]\n",
    "    rgid = \"FLOWCELL.LANE%d.%s\" % (lane_map[rglb],rgsm)\n",
    "    rg_string = \"RGID=%s RGLB=%s RGPL=illumina RGPU=%s RGSM=%s\" % (rgid,\n",
    "                                                                   rglb,\n",
    "                                                                   rgpu,\n",
    "                                                                   rgsm)\n",
    "    cmd = \"%s INPUT=%s OUTPUT=%s %s CREATE_INDEX=true\" % (cmd,\n",
    "                                                          bam,\n",
    "                                                          bam_rg,\n",
    "                                                          rg_string)\n",
    "#     if not os.path.exists(bam_rg):\n",
    "    !$cmd\n",
    "    return bam_rg, rg_string, cmd"
   ]
  }
 ],
 "metadata": {
  "kernelspec": {
   "display_name": "Python 3",
   "language": "python",
   "name": "python3"
  },
  "language_info": {
   "codemirror_mode": {
    "name": "ipython",
    "version": 3
   },
   "file_extension": ".py",
   "mimetype": "text/x-python",
   "name": "python",
   "nbconvert_exporter": "python",
   "pygments_lexer": "ipython3",
   "version": "3.4.4"
  }
 },
 "nbformat": 4,
 "nbformat_minor": 0
}
